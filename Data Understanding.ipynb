{
 "cells": [
  {
   "cell_type": "code",
   "execution_count": 46,
   "metadata": {},
   "outputs": [],
   "source": [
    "import pandas as pd\n",
    "import numpy as np\n",
    "import seaborn as sns"
   ]
  },
  {
   "cell_type": "code",
   "execution_count": 47,
   "metadata": {},
   "outputs": [
    {
     "data": {
      "text/html": [
       "<div>\n",
       "<style scoped>\n",
       "    .dataframe tbody tr th:only-of-type {\n",
       "        vertical-align: middle;\n",
       "    }\n",
       "\n",
       "    .dataframe tbody tr th {\n",
       "        vertical-align: top;\n",
       "    }\n",
       "\n",
       "    .dataframe thead th {\n",
       "        text-align: right;\n",
       "    }\n",
       "</style>\n",
       "<table border=\"1\" class=\"dataframe\">\n",
       "  <thead>\n",
       "    <tr style=\"text-align: right;\">\n",
       "      <th></th>\n",
       "      <th>ID</th>\n",
       "      <th>Name</th>\n",
       "      <th>Year</th>\n",
       "      <th>Rank</th>\n",
       "      <th>Average</th>\n",
       "      <th>Bayes average</th>\n",
       "      <th>Users rated</th>\n",
       "    </tr>\n",
       "  </thead>\n",
       "  <tbody>\n",
       "    <tr>\n",
       "      <th>0</th>\n",
       "      <td>30549</td>\n",
       "      <td>Pandemic</td>\n",
       "      <td>2008</td>\n",
       "      <td>91</td>\n",
       "      <td>7.62</td>\n",
       "      <td>7.518</td>\n",
       "      <td>96186</td>\n",
       "    </tr>\n",
       "    <tr>\n",
       "      <th>1</th>\n",
       "      <td>822</td>\n",
       "      <td>Carcassonne</td>\n",
       "      <td>2000</td>\n",
       "      <td>173</td>\n",
       "      <td>7.42</td>\n",
       "      <td>7.311</td>\n",
       "      <td>96181</td>\n",
       "    </tr>\n",
       "    <tr>\n",
       "      <th>2</th>\n",
       "      <td>13</td>\n",
       "      <td>Catan</td>\n",
       "      <td>1995</td>\n",
       "      <td>381</td>\n",
       "      <td>7.16</td>\n",
       "      <td>7.001</td>\n",
       "      <td>96171</td>\n",
       "    </tr>\n",
       "    <tr>\n",
       "      <th>3</th>\n",
       "      <td>68448</td>\n",
       "      <td>7 Wonders</td>\n",
       "      <td>2010</td>\n",
       "      <td>50</td>\n",
       "      <td>7.76</td>\n",
       "      <td>7.662</td>\n",
       "      <td>79830</td>\n",
       "    </tr>\n",
       "    <tr>\n",
       "      <th>4</th>\n",
       "      <td>36218</td>\n",
       "      <td>Dominion</td>\n",
       "      <td>2008</td>\n",
       "      <td>88</td>\n",
       "      <td>7.63</td>\n",
       "      <td>7.521</td>\n",
       "      <td>74933</td>\n",
       "    </tr>\n",
       "  </tbody>\n",
       "</table>\n",
       "</div>"
      ],
      "text/plain": [
       "      ID         Name  Year  Rank  Average  Bayes average  Users rated\n",
       "0  30549     Pandemic  2008    91     7.62          7.518        96186\n",
       "1    822  Carcassonne  2000   173     7.42          7.311        96181\n",
       "2     13        Catan  1995   381     7.16          7.001        96171\n",
       "3  68448    7 Wonders  2010    50     7.76          7.662        79830\n",
       "4  36218     Dominion  2008    88     7.63          7.521        74933"
      ]
     },
     "execution_count": 47,
     "metadata": {},
     "output_type": "execute_result"
    }
   ],
   "source": [
    "#Reading modified 2020-08-19 dataset to calculate statistics\n",
    "df = pd.read_csv('modified-2020-08-19.csv')\n",
    "df.head()"
   ]
  },
  {
   "cell_type": "code",
   "execution_count": 51,
   "metadata": {},
   "outputs": [
    {
     "name": "stdout",
     "output_type": "stream",
     "text": [
      "<class 'pandas.core.frame.DataFrame'>\n",
      "RangeIndex: 19330 entries, 0 to 19329\n",
      "Data columns (total 7 columns):\n",
      " #   Column         Non-Null Count  Dtype  \n",
      "---  ------         --------------  -----  \n",
      " 0   ID             19330 non-null  int64  \n",
      " 1   Name           19330 non-null  object \n",
      " 2   Year           19330 non-null  int64  \n",
      " 3   Rank           19330 non-null  int64  \n",
      " 4   Average        19330 non-null  float64\n",
      " 5   Bayes average  19330 non-null  float64\n",
      " 6   Users rated    19330 non-null  int64  \n",
      "dtypes: float64(2), int64(4), object(1)\n",
      "memory usage: 1.0+ MB\n"
     ]
    }
   ],
   "source": [
    "# Basic information of the Dataset\n",
    "df.info()"
   ]
  },
  {
   "cell_type": "code",
   "execution_count": 48,
   "metadata": {},
   "outputs": [
    {
     "data": {
      "text/html": [
       "<div>\n",
       "<style scoped>\n",
       "    .dataframe tbody tr th:only-of-type {\n",
       "        vertical-align: middle;\n",
       "    }\n",
       "\n",
       "    .dataframe tbody tr th {\n",
       "        vertical-align: top;\n",
       "    }\n",
       "\n",
       "    .dataframe thead th {\n",
       "        text-align: right;\n",
       "    }\n",
       "</style>\n",
       "<table border=\"1\" class=\"dataframe\">\n",
       "  <thead>\n",
       "    <tr style=\"text-align: right;\">\n",
       "      <th></th>\n",
       "      <th>ID</th>\n",
       "      <th>Year</th>\n",
       "      <th>Rank</th>\n",
       "      <th>Average</th>\n",
       "      <th>Bayes average</th>\n",
       "      <th>Users rated</th>\n",
       "    </tr>\n",
       "  </thead>\n",
       "  <tbody>\n",
       "    <tr>\n",
       "      <th>count</th>\n",
       "      <td>19330.000</td>\n",
       "      <td>19330.000</td>\n",
       "      <td>19330.000</td>\n",
       "      <td>19330.000</td>\n",
       "      <td>19330.000</td>\n",
       "      <td>19330.000</td>\n",
       "    </tr>\n",
       "    <tr>\n",
       "      <th>mean</th>\n",
       "      <td>101516.303</td>\n",
       "      <td>1986.128</td>\n",
       "      <td>9665.500</td>\n",
       "      <td>6.392</td>\n",
       "      <td>5.689</td>\n",
       "      <td>818.132</td>\n",
       "    </tr>\n",
       "    <tr>\n",
       "      <th>std</th>\n",
       "      <td>94301.242</td>\n",
       "      <td>193.375</td>\n",
       "      <td>5580.235</td>\n",
       "      <td>0.930</td>\n",
       "      <td>0.370</td>\n",
       "      <td>3369.034</td>\n",
       "    </tr>\n",
       "    <tr>\n",
       "      <th>min</th>\n",
       "      <td>1.000</td>\n",
       "      <td>0.000</td>\n",
       "      <td>1.000</td>\n",
       "      <td>1.050</td>\n",
       "      <td>3.536</td>\n",
       "      <td>30.000</td>\n",
       "    </tr>\n",
       "    <tr>\n",
       "      <th>25%</th>\n",
       "      <td>10203.750</td>\n",
       "      <td>2000.000</td>\n",
       "      <td>4833.250</td>\n",
       "      <td>5.810</td>\n",
       "      <td>5.511</td>\n",
       "      <td>55.000</td>\n",
       "    </tr>\n",
       "    <tr>\n",
       "      <th>50%</th>\n",
       "      <td>72782.500</td>\n",
       "      <td>2010.000</td>\n",
       "      <td>9665.500</td>\n",
       "      <td>6.420</td>\n",
       "      <td>5.550</td>\n",
       "      <td>119.000</td>\n",
       "    </tr>\n",
       "    <tr>\n",
       "      <th>75%</th>\n",
       "      <td>182383.750</td>\n",
       "      <td>2016.000</td>\n",
       "      <td>14497.750</td>\n",
       "      <td>7.010</td>\n",
       "      <td>5.686</td>\n",
       "      <td>378.000</td>\n",
       "    </tr>\n",
       "    <tr>\n",
       "      <th>max</th>\n",
       "      <td>314040.000</td>\n",
       "      <td>3500.000</td>\n",
       "      <td>19330.000</td>\n",
       "      <td>9.690</td>\n",
       "      <td>8.569</td>\n",
       "      <td>96186.000</td>\n",
       "    </tr>\n",
       "  </tbody>\n",
       "</table>\n",
       "</div>"
      ],
      "text/plain": [
       "               ID       Year       Rank    Average  Bayes average  Users rated\n",
       "count   19330.000  19330.000  19330.000  19330.000      19330.000    19330.000\n",
       "mean   101516.303   1986.128   9665.500      6.392          5.689      818.132\n",
       "std     94301.242    193.375   5580.235      0.930          0.370     3369.034\n",
       "min         1.000      0.000      1.000      1.050          3.536       30.000\n",
       "25%     10203.750   2000.000   4833.250      5.810          5.511       55.000\n",
       "50%     72782.500   2010.000   9665.500      6.420          5.550      119.000\n",
       "75%    182383.750   2016.000  14497.750      7.010          5.686      378.000\n",
       "max    314040.000   3500.000  19330.000      9.690          8.569    96186.000"
      ]
     },
     "execution_count": 48,
     "metadata": {},
     "output_type": "execute_result"
    }
   ],
   "source": [
    "#For only printing upto 3 decimal values\n",
    "from pandas import set_option\n",
    "set_option('precision', 3)\n",
    "\n",
    "#using desribe function for stats calculation\n",
    "df.describe()"
   ]
  },
  {
   "cell_type": "code",
   "execution_count": 49,
   "metadata": {},
   "outputs": [
    {
     "data": {
      "text/plain": [
       "ID               172180.000\n",
       "Year                 16.000\n",
       "Rank               9664.500\n",
       "Average               1.200\n",
       "Bayes average         0.175\n",
       "Users rated         323.000\n",
       "dtype: float64"
      ]
     },
     "execution_count": 49,
     "metadata": {},
     "output_type": "execute_result"
    }
   ],
   "source": [
    "#Interquartile range\n",
    "Q1 = df.quantile(0.25)\n",
    "Q3 = df.quantile(0.75)\n",
    "IQR = Q3 - Q1\n",
    "IQR"
   ]
  },
  {
   "cell_type": "code",
   "execution_count": 50,
   "metadata": {},
   "outputs": [
    {
     "data": {
      "text/plain": [
       "<AxesSubplot:xlabel='Year', ylabel='Density'>"
      ]
     },
     "execution_count": 50,
     "metadata": {},
     "output_type": "execute_result"
    },
    {
     "data": {
      "image/png": "[encoded data removed]",
      "text/plain": [
       "<Figure size 432x288 with 1 Axes>"
      ]
     },
     "metadata": {
      "needs_background": "light"
     },
     "output_type": "display_data"
    }
   ],
   "source": [
    "#kdeplot skewness graph plot\n",
    "sns.kdeplot(df['Year'], color = 'r')"
   ]
  },
  {
   "cell_type": "code",
   "execution_count": 52,
   "metadata": {},
   "outputs": [
    {
     "data": {
      "text/plain": [
       "<AxesSubplot:xlabel='Rank', ylabel='Density'>"
      ]
     },
     "execution_count": 52,
     "metadata": {},
     "output_type": "execute_result"
    },
    {
     "data": {
      "image/png": "[encoded data removed]",
      "text/plain": [
       "<Figure size 432x288 with 1 Axes>"
      ]
     },
     "metadata": {
      "needs_background": "light"
     },
     "output_type": "display_data"
    }
   ],
   "source": [
    "sns.kdeplot(df['Rank'], color = 'b')"
   ]
  },
  {
   "cell_type": "code",
   "execution_count": 53,
   "metadata": {},
   "outputs": [
    {
     "data": {
      "text/plain": [
       "<AxesSubplot:xlabel='Average', ylabel='Density'>"
      ]
     },
     "execution_count": 53,
     "metadata": {},
     "output_type": "execute_result"
    },
    {
     "data": {
      "image/png": "[encoded data removed]",
      "text/plain": [
       "<Figure size 432x288 with 1 Axes>"
      ]
     },
     "metadata": {
      "needs_background": "light"
     },
     "output_type": "display_data"
    }
   ],
   "source": [
    "sns.kdeplot(df['Average'], color = 'g')"
   ]
  },
  {
   "cell_type": "code",
   "execution_count": 55,
   "metadata": {},
   "outputs": [
    {
     "data": {
      "text/plain": [
       "<AxesSubplot:xlabel='Bayes average', ylabel='Density'>"
      ]
     },
     "execution_count": 55,
     "metadata": {},
     "output_type": "execute_result"
    },
    {
     "data": {
      "image/png": "[encoded data removed]",
      "text/plain": [
       "<Figure size 432x288 with 1 Axes>"
      ]
     },
     "metadata": {
      "needs_background": "light"
     },
     "output_type": "display_data"
    }
   ],
   "source": [
    "sns.kdeplot(df['Bayes average'], color = 'black')"
   ]
  },
  {
   "cell_type": "code",
   "execution_count": 56,
   "metadata": {},
   "outputs": [
    {
     "data": {
      "text/plain": [
       "<AxesSubplot:xlabel='Users rated', ylabel='Density'>"
      ]
     },
     "execution_count": 56,
     "metadata": {},
     "output_type": "execute_result"
    },
    {
     "data": {
      "image/png": "[encoded data removed]",
      "text/plain": [
       "<Figure size 432x288 with 1 Axes>"
      ]
     },
     "metadata": {
      "needs_background": "light"
     },
     "output_type": "display_data"
    }
   ],
   "source": [
    "sns.kdeplot(df['Users rated'], color = 'y')"
   ]
  },
  {
   "cell_type": "code",
   "execution_count": 60,
   "metadata": {},
   "outputs": [
    {
     "data": {
      "text/plain": [
       "ID                0.447\n",
       "Year             -9.808\n",
       "Rank              0.000\n",
       "Average          -0.294\n",
       "Bayes average     2.782\n",
       "Users rated      12.182\n",
       "dtype: float64"
      ]
     },
     "execution_count": 60,
     "metadata": {},
     "output_type": "execute_result"
    }
   ],
   "source": [
    "#Skew\n",
    "skew = df.skew()\n",
    "skew"
   ]
  },
  {
   "cell_type": "code",
   "execution_count": null,
   "metadata": {},
   "outputs": [],
   "source": [
    "# Class distribution not calculated because no target attribute"
   ]
  },
  {
   "cell_type": "code",
   "execution_count": 63,
   "metadata": {},
   "outputs": [
    {
     "data": {
      "text/html": [
       "<div>\n",
       "<style scoped>\n",
       "    .dataframe tbody tr th:only-of-type {\n",
       "        vertical-align: middle;\n",
       "    }\n",
       "\n",
       "    .dataframe tbody tr th {\n",
       "        vertical-align: top;\n",
       "    }\n",
       "\n",
       "    .dataframe thead th {\n",
       "        text-align: right;\n",
       "    }\n",
       "</style>\n",
       "<table border=\"1\" class=\"dataframe\">\n",
       "  <thead>\n",
       "    <tr style=\"text-align: right;\">\n",
       "      <th></th>\n",
       "      <th>ID</th>\n",
       "      <th>Year</th>\n",
       "      <th>Rank</th>\n",
       "      <th>Average</th>\n",
       "      <th>Bayes average</th>\n",
       "      <th>Users rated</th>\n",
       "    </tr>\n",
       "  </thead>\n",
       "  <tbody>\n",
       "    <tr>\n",
       "      <th>ID</th>\n",
       "      <td>8.893e+09</td>\n",
       "      <td>1.762e+06</td>\n",
       "      <td>-1.229e+08</td>\n",
       "      <td>34600.454</td>\n",
       "      <td>4375.862</td>\n",
       "      <td>-5.308e+06</td>\n",
       "    </tr>\n",
       "    <tr>\n",
       "      <th>Year</th>\n",
       "      <td>1.762e+06</td>\n",
       "      <td>3.739e+04</td>\n",
       "      <td>-9.281e+04</td>\n",
       "      <td>14.675</td>\n",
       "      <td>4.470</td>\n",
       "      <td>1.211e+04</td>\n",
       "    </tr>\n",
       "    <tr>\n",
       "      <th>Rank</th>\n",
       "      <td>-1.229e+08</td>\n",
       "      <td>-9.281e+04</td>\n",
       "      <td>3.114e+07</td>\n",
       "      <td>-3844.429</td>\n",
       "      <td>-1473.885</td>\n",
       "      <td>-5.890e+06</td>\n",
       "    </tr>\n",
       "    <tr>\n",
       "      <th>Average</th>\n",
       "      <td>3.460e+04</td>\n",
       "      <td>1.468e+01</td>\n",
       "      <td>-3.844e+03</td>\n",
       "      <td>0.866</td>\n",
       "      <td>0.167</td>\n",
       "      <td>5.419e+02</td>\n",
       "    </tr>\n",
       "    <tr>\n",
       "      <th>Bayes average</th>\n",
       "      <td>4.376e+03</td>\n",
       "      <td>4.470e+00</td>\n",
       "      <td>-1.474e+03</td>\n",
       "      <td>0.167</td>\n",
       "      <td>0.137</td>\n",
       "      <td>7.899e+02</td>\n",
       "    </tr>\n",
       "    <tr>\n",
       "      <th>Users rated</th>\n",
       "      <td>-5.308e+06</td>\n",
       "      <td>1.211e+04</td>\n",
       "      <td>-5.890e+06</td>\n",
       "      <td>541.892</td>\n",
       "      <td>789.939</td>\n",
       "      <td>1.135e+07</td>\n",
       "    </tr>\n",
       "  </tbody>\n",
       "</table>\n",
       "</div>"
      ],
      "text/plain": [
       "                      ID       Year       Rank    Average  Bayes average  \\\n",
       "ID             8.893e+09  1.762e+06 -1.229e+08  34600.454       4375.862   \n",
       "Year           1.762e+06  3.739e+04 -9.281e+04     14.675          4.470   \n",
       "Rank          -1.229e+08 -9.281e+04  3.114e+07  -3844.429      -1473.885   \n",
       "Average        3.460e+04  1.468e+01 -3.844e+03      0.866          0.167   \n",
       "Bayes average  4.376e+03  4.470e+00 -1.474e+03      0.167          0.137   \n",
       "Users rated   -5.308e+06  1.211e+04 -5.890e+06    541.892        789.939   \n",
       "\n",
       "               Users rated  \n",
       "ID              -5.308e+06  \n",
       "Year             1.211e+04  \n",
       "Rank            -5.890e+06  \n",
       "Average          5.419e+02  \n",
       "Bayes average    7.899e+02  \n",
       "Users rated      1.135e+07  "
      ]
     },
     "execution_count": 63,
     "metadata": {},
     "output_type": "execute_result"
    }
   ],
   "source": [
    "#Covariance\n",
    "set_option('precision', 3)\n",
    "covariance = df.cov()\n",
    "covariance"
   ]
  },
  {
   "cell_type": "code",
   "execution_count": 66,
   "metadata": {},
   "outputs": [
    {
     "data": {
      "text/html": [
       "<div>\n",
       "<style scoped>\n",
       "    .dataframe tbody tr th:only-of-type {\n",
       "        vertical-align: middle;\n",
       "    }\n",
       "\n",
       "    .dataframe tbody tr th {\n",
       "        vertical-align: top;\n",
       "    }\n",
       "\n",
       "    .dataframe thead th {\n",
       "        text-align: right;\n",
       "    }\n",
       "</style>\n",
       "<table border=\"1\" class=\"dataframe\">\n",
       "  <thead>\n",
       "    <tr style=\"text-align: right;\">\n",
       "      <th></th>\n",
       "      <th>ID</th>\n",
       "      <th>Year</th>\n",
       "      <th>Rank</th>\n",
       "      <th>Average</th>\n",
       "      <th>Bayes average</th>\n",
       "      <th>Users rated</th>\n",
       "    </tr>\n",
       "  </thead>\n",
       "  <tbody>\n",
       "    <tr>\n",
       "      <th>ID</th>\n",
       "      <td>1.000</td>\n",
       "      <td>0.097</td>\n",
       "      <td>-0.234</td>\n",
       "      <td>0.394</td>\n",
       "      <td>0.126</td>\n",
       "      <td>-0.017</td>\n",
       "    </tr>\n",
       "    <tr>\n",
       "      <th>Year</th>\n",
       "      <td>0.097</td>\n",
       "      <td>1.000</td>\n",
       "      <td>-0.086</td>\n",
       "      <td>0.082</td>\n",
       "      <td>0.063</td>\n",
       "      <td>0.019</td>\n",
       "    </tr>\n",
       "    <tr>\n",
       "      <th>Rank</th>\n",
       "      <td>-0.234</td>\n",
       "      <td>-0.086</td>\n",
       "      <td>1.000</td>\n",
       "      <td>-0.740</td>\n",
       "      <td>-0.715</td>\n",
       "      <td>-0.313</td>\n",
       "    </tr>\n",
       "    <tr>\n",
       "      <th>Average</th>\n",
       "      <td>0.394</td>\n",
       "      <td>0.082</td>\n",
       "      <td>-0.740</td>\n",
       "      <td>1.000</td>\n",
       "      <td>0.485</td>\n",
       "      <td>0.173</td>\n",
       "    </tr>\n",
       "    <tr>\n",
       "      <th>Bayes average</th>\n",
       "      <td>0.126</td>\n",
       "      <td>0.063</td>\n",
       "      <td>-0.715</td>\n",
       "      <td>0.485</td>\n",
       "      <td>1.000</td>\n",
       "      <td>0.634</td>\n",
       "    </tr>\n",
       "    <tr>\n",
       "      <th>Users rated</th>\n",
       "      <td>-0.017</td>\n",
       "      <td>0.019</td>\n",
       "      <td>-0.313</td>\n",
       "      <td>0.173</td>\n",
       "      <td>0.634</td>\n",
       "      <td>1.000</td>\n",
       "    </tr>\n",
       "  </tbody>\n",
       "</table>\n",
       "</div>"
      ],
      "text/plain": [
       "                  ID   Year   Rank  Average  Bayes average  Users rated\n",
       "ID             1.000  0.097 -0.234    0.394          0.126       -0.017\n",
       "Year           0.097  1.000 -0.086    0.082          0.063        0.019\n",
       "Rank          -0.234 -0.086  1.000   -0.740         -0.715       -0.313\n",
       "Average        0.394  0.082 -0.740    1.000          0.485        0.173\n",
       "Bayes average  0.126  0.063 -0.715    0.485          1.000        0.634\n",
       "Users rated   -0.017  0.019 -0.313    0.173          0.634        1.000"
      ]
     },
     "execution_count": 66,
     "metadata": {},
     "output_type": "execute_result"
    }
   ],
   "source": [
    "#Pairwise Pearson Correlations\n",
    "set_option('precision', 3)\n",
    "correlations = df.corr(method='pearson')\n",
    "correlations"
   ]
  },
  {
   "cell_type": "code",
   "execution_count": 71,
   "metadata": {},
   "outputs": [],
   "source": [
    "#Error while calculating Heatmap\n",
    "#sns.heatmap(df.corr(), vmin=-1, vmax=1, cmap=\"Y1GnBu\", annot = True)"
   ]
  },
  {
   "cell_type": "code",
   "execution_count": 72,
   "metadata": {},
   "outputs": [],
   "source": [
    "#Chi square test not carries out because no target attribute"
   ]
  },
  {
   "cell_type": "code",
   "execution_count": 73,
   "metadata": {},
   "outputs": [
    {
     "data": {
      "text/html": [
       "<div>\n",
       "<style scoped>\n",
       "    .dataframe tbody tr th:only-of-type {\n",
       "        vertical-align: middle;\n",
       "    }\n",
       "\n",
       "    .dataframe tbody tr th {\n",
       "        vertical-align: top;\n",
       "    }\n",
       "\n",
       "    .dataframe thead th {\n",
       "        text-align: right;\n",
       "    }\n",
       "</style>\n",
       "<table border=\"1\" class=\"dataframe\">\n",
       "  <thead>\n",
       "    <tr style=\"text-align: right;\">\n",
       "      <th></th>\n",
       "      <th>user</th>\n",
       "      <th>rating</th>\n",
       "      <th>ID</th>\n",
       "      <th>name</th>\n",
       "    </tr>\n",
       "  </thead>\n",
       "  <tbody>\n",
       "    <tr>\n",
       "      <th>0</th>\n",
       "      <td>Torsten</td>\n",
       "      <td>10.0</td>\n",
       "      <td>30549</td>\n",
       "      <td>Pandemic</td>\n",
       "    </tr>\n",
       "    <tr>\n",
       "      <th>1</th>\n",
       "      <td>mitnachtKAUBO-I</td>\n",
       "      <td>10.0</td>\n",
       "      <td>30549</td>\n",
       "      <td>Pandemic</td>\n",
       "    </tr>\n",
       "    <tr>\n",
       "      <th>2</th>\n",
       "      <td>avlawn</td>\n",
       "      <td>10.0</td>\n",
       "      <td>30549</td>\n",
       "      <td>Pandemic</td>\n",
       "    </tr>\n",
       "    <tr>\n",
       "      <th>3</th>\n",
       "      <td>Mike Mayer</td>\n",
       "      <td>10.0</td>\n",
       "      <td>30549</td>\n",
       "      <td>Pandemic</td>\n",
       "    </tr>\n",
       "    <tr>\n",
       "      <th>4</th>\n",
       "      <td>Mease19</td>\n",
       "      <td>10.0</td>\n",
       "      <td>30549</td>\n",
       "      <td>Pandemic</td>\n",
       "    </tr>\n",
       "  </tbody>\n",
       "</table>\n",
       "</div>"
      ],
      "text/plain": [
       "              user  rating     ID      name\n",
       "0          Torsten    10.0  30549  Pandemic\n",
       "1  mitnachtKAUBO-I    10.0  30549  Pandemic\n",
       "2           avlawn    10.0  30549  Pandemic\n",
       "3       Mike Mayer    10.0  30549  Pandemic\n",
       "4          Mease19    10.0  30549  Pandemic"
      ]
     },
     "execution_count": 73,
     "metadata": {},
     "output_type": "execute_result"
    }
   ],
   "source": [
    "#Loading in the second dataset\n",
    "df = pd.read_csv('modified-bgg-15m-reviews.csv')\n",
    "df.head()"
   ]
  },
  {
   "cell_type": "code",
   "execution_count": 74,
   "metadata": {},
   "outputs": [
    {
     "name": "stdout",
     "output_type": "stream",
     "text": [
      "<class 'pandas.core.frame.DataFrame'>\n",
      "RangeIndex: 15823269 entries, 0 to 15823268\n",
      "Data columns (total 4 columns):\n",
      " #   Column  Dtype  \n",
      "---  ------  -----  \n",
      " 0   user    object \n",
      " 1   rating  float64\n",
      " 2   ID      int64  \n",
      " 3   name    object \n",
      "dtypes: float64(1), int64(1), object(2)\n",
      "memory usage: 482.9+ MB\n"
     ]
    }
   ],
   "source": [
    "# Basic information of the Dataset\n",
    "df.info()"
   ]
  },
  {
   "cell_type": "code",
   "execution_count": 78,
   "metadata": {},
   "outputs": [
    {
     "data": {
      "text/html": [
       "<div>\n",
       "<style scoped>\n",
       "    .dataframe tbody tr th:only-of-type {\n",
       "        vertical-align: middle;\n",
       "    }\n",
       "\n",
       "    .dataframe tbody tr th {\n",
       "        vertical-align: top;\n",
       "    }\n",
       "\n",
       "    .dataframe thead th {\n",
       "        text-align: right;\n",
       "    }\n",
       "</style>\n",
       "<table border=\"1\" class=\"dataframe\">\n",
       "  <thead>\n",
       "    <tr style=\"text-align: right;\">\n",
       "      <th></th>\n",
       "      <th>rating</th>\n",
       "      <th>ID</th>\n",
       "    </tr>\n",
       "  </thead>\n",
       "  <tbody>\n",
       "    <tr>\n",
       "      <th>count</th>\n",
       "      <td>1.582e+07</td>\n",
       "      <td>1.582e+07</td>\n",
       "    </tr>\n",
       "    <tr>\n",
       "      <th>mean</th>\n",
       "      <td>7.055e+00</td>\n",
       "      <td>9.508e+04</td>\n",
       "    </tr>\n",
       "    <tr>\n",
       "      <th>std</th>\n",
       "      <td>1.600e+00</td>\n",
       "      <td>8.412e+04</td>\n",
       "    </tr>\n",
       "    <tr>\n",
       "      <th>min</th>\n",
       "      <td>1.401e-45</td>\n",
       "      <td>1.000e+00</td>\n",
       "    </tr>\n",
       "    <tr>\n",
       "      <th>25%</th>\n",
       "      <td>6.000e+00</td>\n",
       "      <td>1.213e+04</td>\n",
       "    </tr>\n",
       "    <tr>\n",
       "      <th>50%</th>\n",
       "      <td>7.000e+00</td>\n",
       "      <td>7.644e+04</td>\n",
       "    </tr>\n",
       "    <tr>\n",
       "      <th>75%</th>\n",
       "      <td>8.000e+00</td>\n",
       "      <td>1.678e+05</td>\n",
       "    </tr>\n",
       "    <tr>\n",
       "      <th>max</th>\n",
       "      <td>1.000e+01</td>\n",
       "      <td>3.140e+05</td>\n",
       "    </tr>\n",
       "  </tbody>\n",
       "</table>\n",
       "</div>"
      ],
      "text/plain": [
       "          rating         ID\n",
       "count  1.582e+07  1.582e+07\n",
       "mean   7.055e+00  9.508e+04\n",
       "std    1.600e+00  8.412e+04\n",
       "min    1.401e-45  1.000e+00\n",
       "25%    6.000e+00  1.213e+04\n",
       "50%    7.000e+00  7.644e+04\n",
       "75%    8.000e+00  1.678e+05\n",
       "max    1.000e+01  3.140e+05"
      ]
     },
     "execution_count": 78,
     "metadata": {},
     "output_type": "execute_result"
    }
   ],
   "source": [
    "#For only printing upto 3 decimal values\n",
    "set_option('precision', 3)\n",
    "#using desribe function for stats calculation\n",
    "df.describe()"
   ]
  },
  {
   "cell_type": "code",
   "execution_count": 79,
   "metadata": {},
   "outputs": [
    {
     "data": {
      "text/plain": [
       "rating         2.0\n",
       "ID        155657.0\n",
       "dtype: float64"
      ]
     },
     "execution_count": 79,
     "metadata": {},
     "output_type": "execute_result"
    }
   ],
   "source": [
    "#Interquartile range\n",
    "Q1 = df.quantile(0.25)\n",
    "Q3 = df.quantile(0.75)\n",
    "IQR = Q3 - Q1\n",
    "IQR"
   ]
  },
  {
   "cell_type": "code",
   "execution_count": 80,
   "metadata": {},
   "outputs": [
    {
     "data": {
      "text/plain": [
       "<AxesSubplot:xlabel='rating', ylabel='Density'>"
      ]
     },
     "execution_count": 80,
     "metadata": {},
     "output_type": "execute_result"
    },
    {
     "data": {
      "image/png": "[encoded data removed]",
      "text/plain": [
       "<Figure size 432x288 with 1 Axes>"
      ]
     },
     "metadata": {
      "needs_background": "light"
     },
     "output_type": "display_data"
    }
   ],
   "source": [
    "#kdeplot skewness graph plot\n",
    "sns.kdeplot(df['rating'], color = 'r')"
   ]
  },
  {
   "cell_type": "code",
   "execution_count": 81,
   "metadata": {},
   "outputs": [
    {
     "data": {
      "text/plain": [
       "rating   -0.685\n",
       "ID        0.403\n",
       "dtype: float64"
      ]
     },
     "execution_count": 81,
     "metadata": {},
     "output_type": "execute_result"
    }
   ],
   "source": [
    "#Skew\n",
    "skew = df.skew()\n",
    "skew"
   ]
  },
  {
   "cell_type": "code",
   "execution_count": 82,
   "metadata": {},
   "outputs": [],
   "source": [
    "# Class distribution not calculated because no target attribute"
   ]
  },
  {
   "cell_type": "code",
   "execution_count": 83,
   "metadata": {},
   "outputs": [
    {
     "data": {
      "text/html": [
       "<div>\n",
       "<style scoped>\n",
       "    .dataframe tbody tr th:only-of-type {\n",
       "        vertical-align: middle;\n",
       "    }\n",
       "\n",
       "    .dataframe tbody tr th {\n",
       "        vertical-align: top;\n",
       "    }\n",
       "\n",
       "    .dataframe thead th {\n",
       "        text-align: right;\n",
       "    }\n",
       "</style>\n",
       "<table border=\"1\" class=\"dataframe\">\n",
       "  <thead>\n",
       "    <tr style=\"text-align: right;\">\n",
       "      <th></th>\n",
       "      <th>rating</th>\n",
       "      <th>ID</th>\n",
       "    </tr>\n",
       "  </thead>\n",
       "  <tbody>\n",
       "    <tr>\n",
       "      <th>rating</th>\n",
       "      <td>2.559</td>\n",
       "      <td>2.266e+04</td>\n",
       "    </tr>\n",
       "    <tr>\n",
       "      <th>ID</th>\n",
       "      <td>22661.346</td>\n",
       "      <td>7.075e+09</td>\n",
       "    </tr>\n",
       "  </tbody>\n",
       "</table>\n",
       "</div>"
      ],
      "text/plain": [
       "           rating         ID\n",
       "rating      2.559  2.266e+04\n",
       "ID      22661.346  7.075e+09"
      ]
     },
     "execution_count": 83,
     "metadata": {},
     "output_type": "execute_result"
    }
   ],
   "source": [
    "#Covariance\n",
    "set_option('precision', 3)\n",
    "covariance = df.cov()\n",
    "covariance"
   ]
  },
  {
   "cell_type": "code",
   "execution_count": 84,
   "metadata": {},
   "outputs": [
    {
     "data": {
      "text/html": [
       "<div>\n",
       "<style scoped>\n",
       "    .dataframe tbody tr th:only-of-type {\n",
       "        vertical-align: middle;\n",
       "    }\n",
       "\n",
       "    .dataframe tbody tr th {\n",
       "        vertical-align: top;\n",
       "    }\n",
       "\n",
       "    .dataframe thead th {\n",
       "        text-align: right;\n",
       "    }\n",
       "</style>\n",
       "<table border=\"1\" class=\"dataframe\">\n",
       "  <thead>\n",
       "    <tr style=\"text-align: right;\">\n",
       "      <th></th>\n",
       "      <th>rating</th>\n",
       "      <th>ID</th>\n",
       "    </tr>\n",
       "  </thead>\n",
       "  <tbody>\n",
       "    <tr>\n",
       "      <th>rating</th>\n",
       "      <td>1.000</td>\n",
       "      <td>0.168</td>\n",
       "    </tr>\n",
       "    <tr>\n",
       "      <th>ID</th>\n",
       "      <td>0.168</td>\n",
       "      <td>1.000</td>\n",
       "    </tr>\n",
       "  </tbody>\n",
       "</table>\n",
       "</div>"
      ],
      "text/plain": [
       "        rating     ID\n",
       "rating   1.000  0.168\n",
       "ID       0.168  1.000"
      ]
     },
     "execution_count": 84,
     "metadata": {},
     "output_type": "execute_result"
    }
   ],
   "source": [
    "#Pairwise Pearson Correlations\n",
    "set_option('precision', 3)\n",
    "correlations = df.corr(method='pearson')\n",
    "correlations"
   ]
  },
  {
   "cell_type": "code",
   "execution_count": 86,
   "metadata": {},
   "outputs": [],
   "source": [
    "#Error while calculating Heatmap\n",
    "#sns.heatmap(df.corr(), vmin=-1, vmax=1, cmap=\"Y1GnBu\", annot = True)"
   ]
  },
  {
   "cell_type": "code",
   "execution_count": 87,
   "metadata": {},
   "outputs": [],
   "source": [
    "#Chi square test not carries out because no target attribute"
   ]
  },
  {
   "cell_type": "code",
   "execution_count": 88,
   "metadata": {},
   "outputs": [
    {
     "data": {
      "text/html": [
       "<div>\n",
       "<style scoped>\n",
       "    .dataframe tbody tr th:only-of-type {\n",
       "        vertical-align: middle;\n",
       "    }\n",
       "\n",
       "    .dataframe tbody tr th {\n",
       "        vertical-align: top;\n",
       "    }\n",
       "\n",
       "    .dataframe thead th {\n",
       "        text-align: right;\n",
       "    }\n",
       "</style>\n",
       "<table border=\"1\" class=\"dataframe\">\n",
       "  <thead>\n",
       "    <tr style=\"text-align: right;\">\n",
       "      <th></th>\n",
       "      <th>id</th>\n",
       "      <th>primary</th>\n",
       "      <th>description</th>\n",
       "      <th>yearpublished</th>\n",
       "      <th>minplayers</th>\n",
       "      <th>maxplayers</th>\n",
       "      <th>playingtime</th>\n",
       "      <th>minplaytime</th>\n",
       "      <th>maxplaytime</th>\n",
       "      <th>minage</th>\n",
       "      <th>boardgamecategory</th>\n",
       "      <th>boardgamemechanic</th>\n",
       "      <th>boardgamefamily</th>\n",
       "      <th>boardgamedesigner</th>\n",
       "      <th>boardgameartist</th>\n",
       "      <th>boardgamepublisher</th>\n",
       "      <th>usersrated</th>\n",
       "      <th>average</th>\n",
       "      <th>bayesaverage</th>\n",
       "      <th>Board Game Rank</th>\n",
       "    </tr>\n",
       "  </thead>\n",
       "  <tbody>\n",
       "    <tr>\n",
       "      <th>0</th>\n",
       "      <td>30549</td>\n",
       "      <td>Pandemic</td>\n",
       "      <td>In Pandemic, several virulent diseases have br...</td>\n",
       "      <td>2008</td>\n",
       "      <td>2</td>\n",
       "      <td>4</td>\n",
       "      <td>45</td>\n",
       "      <td>45</td>\n",
       "      <td>45</td>\n",
       "      <td>8</td>\n",
       "      <td>['Medical']</td>\n",
       "      <td>['Action Points', 'Cooperative Game', 'Hand Ma...</td>\n",
       "      <td>['Game: Pandemic', 'Medical: Diseases', 'Occup...</td>\n",
       "      <td>['Matt Leacock']</td>\n",
       "      <td>['Josh Cappel', 'Christian Hanisch', 'Régis Mo...</td>\n",
       "      <td>['Z-Man Games, Inc.', '(Unknown)', 'Albi', 'As...</td>\n",
       "      <td>96241</td>\n",
       "      <td>7.616</td>\n",
       "      <td>7.518</td>\n",
       "      <td>91</td>\n",
       "    </tr>\n",
       "    <tr>\n",
       "      <th>1</th>\n",
       "      <td>822</td>\n",
       "      <td>Carcassonne</td>\n",
       "      <td>Carcassonne is a tile-placement game in which ...</td>\n",
       "      <td>2000</td>\n",
       "      <td>2</td>\n",
       "      <td>5</td>\n",
       "      <td>45</td>\n",
       "      <td>30</td>\n",
       "      <td>45</td>\n",
       "      <td>7</td>\n",
       "      <td>['City Building', 'Medieval', 'Territory Build...</td>\n",
       "      <td>['Area Majority / Influence', 'Map Addition', ...</td>\n",
       "      <td>['Components: Black meeples', 'Components: Blu...</td>\n",
       "      <td>['Klaus-Jürgen Wrede']</td>\n",
       "      <td>['Doris Matthäus', 'Anne Pätzke', 'Chris Quill...</td>\n",
       "      <td>['Hans im Glück', '999 Games', 'Albi', 'Bard C...</td>\n",
       "      <td>96228</td>\n",
       "      <td>7.419</td>\n",
       "      <td>7.311</td>\n",
       "      <td>173</td>\n",
       "    </tr>\n",
       "    <tr>\n",
       "      <th>2</th>\n",
       "      <td>13</td>\n",
       "      <td>Catan</td>\n",
       "      <td>In Catan (formerly The Settlers of Catan), pla...</td>\n",
       "      <td>1995</td>\n",
       "      <td>3</td>\n",
       "      <td>4</td>\n",
       "      <td>120</td>\n",
       "      <td>60</td>\n",
       "      <td>120</td>\n",
       "      <td>10</td>\n",
       "      <td>['Economic', 'Negotiation']</td>\n",
       "      <td>['Dice Rolling', 'Hexagon Grid', 'Income', 'Mo...</td>\n",
       "      <td>['Game: Catan', 'Promotional: Promo Board Games']</td>\n",
       "      <td>['Klaus Teuber']</td>\n",
       "      <td>['Volkan Baga', 'Tanja Donner', 'Pete Fenlon',...</td>\n",
       "      <td>['KOSMOS', '999 Games', 'Albi', 'Astrel Games'...</td>\n",
       "      <td>96213</td>\n",
       "      <td>7.163</td>\n",
       "      <td>7.000</td>\n",
       "      <td>381</td>\n",
       "    </tr>\n",
       "    <tr>\n",
       "      <th>3</th>\n",
       "      <td>68448</td>\n",
       "      <td>7 Wonders</td>\n",
       "      <td>You are the leader of one of the 7 great citie...</td>\n",
       "      <td>2010</td>\n",
       "      <td>2</td>\n",
       "      <td>7</td>\n",
       "      <td>30</td>\n",
       "      <td>30</td>\n",
       "      <td>30</td>\n",
       "      <td>10</td>\n",
       "      <td>['Ancient', 'Card Game', 'City Building', 'Civ...</td>\n",
       "      <td>['Card Drafting', 'Drafting', 'Hand Management...</td>\n",
       "      <td>['Game: 7 Wonders', 'Mechanic: Tableau Building']</td>\n",
       "      <td>['Antoine Bauza']</td>\n",
       "      <td>['Antoine Bauza', 'Miguel Coimbra']</td>\n",
       "      <td>['Repos Production', 'ADC Blackfire Entertainm...</td>\n",
       "      <td>79873</td>\n",
       "      <td>7.760</td>\n",
       "      <td>7.662</td>\n",
       "      <td>51</td>\n",
       "    </tr>\n",
       "    <tr>\n",
       "      <th>4</th>\n",
       "      <td>36218</td>\n",
       "      <td>Dominion</td>\n",
       "      <td>&amp;quot;You are a monarch, like your parents bef...</td>\n",
       "      <td>2008</td>\n",
       "      <td>2</td>\n",
       "      <td>4</td>\n",
       "      <td>30</td>\n",
       "      <td>30</td>\n",
       "      <td>30</td>\n",
       "      <td>13</td>\n",
       "      <td>['Card Game', 'Medieval']</td>\n",
       "      <td>['Deck, Bag, and Pool Building', 'Delayed Purc...</td>\n",
       "      <td>['Crowdfunding: Wspieram', 'Game: Dominion', '...</td>\n",
       "      <td>['Donald X. Vaccarino']</td>\n",
       "      <td>['Matthias Catrein', 'Julien Delval', 'Tomasz ...</td>\n",
       "      <td>['Rio Grande Games', '999 Games', 'Albi', 'Bar...</td>\n",
       "      <td>74959</td>\n",
       "      <td>7.627</td>\n",
       "      <td>7.520</td>\n",
       "      <td>89</td>\n",
       "    </tr>\n",
       "  </tbody>\n",
       "</table>\n",
       "</div>"
      ],
      "text/plain": [
       "      id      primary                                        description  \\\n",
       "0  30549     Pandemic  In Pandemic, several virulent diseases have br...   \n",
       "1    822  Carcassonne  Carcassonne is a tile-placement game in which ...   \n",
       "2     13        Catan  In Catan (formerly The Settlers of Catan), pla...   \n",
       "3  68448    7 Wonders  You are the leader of one of the 7 great citie...   \n",
       "4  36218     Dominion  &quot;You are a monarch, like your parents bef...   \n",
       "\n",
       "   yearpublished  minplayers  maxplayers  playingtime  minplaytime  \\\n",
       "0           2008           2           4           45           45   \n",
       "1           2000           2           5           45           30   \n",
       "2           1995           3           4          120           60   \n",
       "3           2010           2           7           30           30   \n",
       "4           2008           2           4           30           30   \n",
       "\n",
       "   maxplaytime  minage                                  boardgamecategory  \\\n",
       "0           45       8                                        ['Medical']   \n",
       "1           45       7  ['City Building', 'Medieval', 'Territory Build...   \n",
       "2          120      10                        ['Economic', 'Negotiation']   \n",
       "3           30      10  ['Ancient', 'Card Game', 'City Building', 'Civ...   \n",
       "4           30      13                          ['Card Game', 'Medieval']   \n",
       "\n",
       "                                   boardgamemechanic  \\\n",
       "0  ['Action Points', 'Cooperative Game', 'Hand Ma...   \n",
       "1  ['Area Majority / Influence', 'Map Addition', ...   \n",
       "2  ['Dice Rolling', 'Hexagon Grid', 'Income', 'Mo...   \n",
       "3  ['Card Drafting', 'Drafting', 'Hand Management...   \n",
       "4  ['Deck, Bag, and Pool Building', 'Delayed Purc...   \n",
       "\n",
       "                                     boardgamefamily        boardgamedesigner  \\\n",
       "0  ['Game: Pandemic', 'Medical: Diseases', 'Occup...         ['Matt Leacock']   \n",
       "1  ['Components: Black meeples', 'Components: Blu...   ['Klaus-Jürgen Wrede']   \n",
       "2  ['Game: Catan', 'Promotional: Promo Board Games']         ['Klaus Teuber']   \n",
       "3  ['Game: 7 Wonders', 'Mechanic: Tableau Building']        ['Antoine Bauza']   \n",
       "4  ['Crowdfunding: Wspieram', 'Game: Dominion', '...  ['Donald X. Vaccarino']   \n",
       "\n",
       "                                     boardgameartist  \\\n",
       "0  ['Josh Cappel', 'Christian Hanisch', 'Régis Mo...   \n",
       "1  ['Doris Matthäus', 'Anne Pätzke', 'Chris Quill...   \n",
       "2  ['Volkan Baga', 'Tanja Donner', 'Pete Fenlon',...   \n",
       "3                ['Antoine Bauza', 'Miguel Coimbra']   \n",
       "4  ['Matthias Catrein', 'Julien Delval', 'Tomasz ...   \n",
       "\n",
       "                                  boardgamepublisher  usersrated  average  \\\n",
       "0  ['Z-Man Games, Inc.', '(Unknown)', 'Albi', 'As...       96241    7.616   \n",
       "1  ['Hans im Glück', '999 Games', 'Albi', 'Bard C...       96228    7.419   \n",
       "2  ['KOSMOS', '999 Games', 'Albi', 'Astrel Games'...       96213    7.163   \n",
       "3  ['Repos Production', 'ADC Blackfire Entertainm...       79873    7.760   \n",
       "4  ['Rio Grande Games', '999 Games', 'Albi', 'Bar...       74959    7.627   \n",
       "\n",
       "   bayesaverage  Board Game Rank  \n",
       "0         7.518               91  \n",
       "1         7.311              173  \n",
       "2         7.000              381  \n",
       "3         7.662               51  \n",
       "4         7.520               89  "
      ]
     },
     "execution_count": 88,
     "metadata": {},
     "output_type": "execute_result"
    }
   ],
   "source": [
    "#Loading in the third dataset\n",
    "df = pd.read_csv('modified-games_detailed_info.csv')\n",
    "df.head()"
   ]
  },
  {
   "cell_type": "code",
   "execution_count": 89,
   "metadata": {},
   "outputs": [
    {
     "name": "stdout",
     "output_type": "stream",
     "text": [
      "<class 'pandas.core.frame.DataFrame'>\n",
      "RangeIndex: 19230 entries, 0 to 19229\n",
      "Data columns (total 20 columns):\n",
      " #   Column              Non-Null Count  Dtype  \n",
      "---  ------              --------------  -----  \n",
      " 0   id                  19230 non-null  int64  \n",
      " 1   primary             19230 non-null  object \n",
      " 2   description         19229 non-null  object \n",
      " 3   yearpublished       19230 non-null  int64  \n",
      " 4   minplayers          19230 non-null  int64  \n",
      " 5   maxplayers          19230 non-null  int64  \n",
      " 6   playingtime         19230 non-null  int64  \n",
      " 7   minplaytime         19230 non-null  int64  \n",
      " 8   maxplaytime         19230 non-null  int64  \n",
      " 9   minage              19230 non-null  int64  \n",
      " 10  boardgamecategory   19009 non-null  object \n",
      " 11  boardgamemechanic   17681 non-null  object \n",
      " 12  boardgamefamily     14743 non-null  object \n",
      " 13  boardgamedesigner   18800 non-null  object \n",
      " 14  boardgameartist     13833 non-null  object \n",
      " 15  boardgamepublisher  19230 non-null  object \n",
      " 16  usersrated          19230 non-null  int64  \n",
      " 17  average             19230 non-null  float64\n",
      " 18  bayesaverage        19230 non-null  float64\n",
      " 19  Board Game Rank     19230 non-null  int64  \n",
      "dtypes: float64(2), int64(10), object(8)\n",
      "memory usage: 2.9+ MB\n"
     ]
    }
   ],
   "source": [
    "# Basic information of the Dataset\n",
    "df.info()"
   ]
  },
  {
   "cell_type": "code",
   "execution_count": 90,
   "metadata": {},
   "outputs": [
    {
     "data": {
      "text/html": [
       "<div>\n",
       "<style scoped>\n",
       "    .dataframe tbody tr th:only-of-type {\n",
       "        vertical-align: middle;\n",
       "    }\n",
       "\n",
       "    .dataframe tbody tr th {\n",
       "        vertical-align: top;\n",
       "    }\n",
       "\n",
       "    .dataframe thead th {\n",
       "        text-align: right;\n",
       "    }\n",
       "</style>\n",
       "<table border=\"1\" class=\"dataframe\">\n",
       "  <thead>\n",
       "    <tr style=\"text-align: right;\">\n",
       "      <th></th>\n",
       "      <th>id</th>\n",
       "      <th>yearpublished</th>\n",
       "      <th>minplayers</th>\n",
       "      <th>maxplayers</th>\n",
       "      <th>playingtime</th>\n",
       "      <th>minplaytime</th>\n",
       "      <th>maxplaytime</th>\n",
       "      <th>minage</th>\n",
       "      <th>usersrated</th>\n",
       "      <th>average</th>\n",
       "      <th>bayesaverage</th>\n",
       "      <th>Board Game Rank</th>\n",
       "    </tr>\n",
       "  </thead>\n",
       "  <tbody>\n",
       "    <tr>\n",
       "      <th>count</th>\n",
       "      <td>19230.000</td>\n",
       "      <td>19230.000</td>\n",
       "      <td>19230.000</td>\n",
       "      <td>19230.000</td>\n",
       "      <td>19230.000</td>\n",
       "      <td>19230.000</td>\n",
       "      <td>19230.000</td>\n",
       "      <td>19230.000</td>\n",
       "      <td>19230.000</td>\n",
       "      <td>19230.000</td>\n",
       "      <td>19230.000</td>\n",
       "      <td>19230.000</td>\n",
       "    </tr>\n",
       "    <tr>\n",
       "      <th>mean</th>\n",
       "      <td>101482.306</td>\n",
       "      <td>1984.084</td>\n",
       "      <td>2.029</td>\n",
       "      <td>5.618</td>\n",
       "      <td>96.595</td>\n",
       "      <td>66.623</td>\n",
       "      <td>96.595</td>\n",
       "      <td>9.603</td>\n",
       "      <td>822.717</td>\n",
       "      <td>6.393</td>\n",
       "      <td>5.690</td>\n",
       "      <td>9646.835</td>\n",
       "    </tr>\n",
       "    <tr>\n",
       "      <th>std</th>\n",
       "      <td>94272.241</td>\n",
       "      <td>212.855</td>\n",
       "      <td>0.686</td>\n",
       "      <td>15.372</td>\n",
       "      <td>1025.842</td>\n",
       "      <td>473.585</td>\n",
       "      <td>1025.842</td>\n",
       "      <td>3.631</td>\n",
       "      <td>3379.272</td>\n",
       "      <td>0.930</td>\n",
       "      <td>0.370</td>\n",
       "      <td>5588.107</td>\n",
       "    </tr>\n",
       "    <tr>\n",
       "      <th>min</th>\n",
       "      <td>1.000</td>\n",
       "      <td>-3500.000</td>\n",
       "      <td>0.000</td>\n",
       "      <td>0.000</td>\n",
       "      <td>0.000</td>\n",
       "      <td>0.000</td>\n",
       "      <td>0.000</td>\n",
       "      <td>0.000</td>\n",
       "      <td>30.000</td>\n",
       "      <td>1.048</td>\n",
       "      <td>3.536</td>\n",
       "      <td>1.000</td>\n",
       "    </tr>\n",
       "    <tr>\n",
       "      <th>25%</th>\n",
       "      <td>10213.250</td>\n",
       "      <td>2000.000</td>\n",
       "      <td>2.000</td>\n",
       "      <td>4.000</td>\n",
       "      <td>30.000</td>\n",
       "      <td>20.000</td>\n",
       "      <td>30.000</td>\n",
       "      <td>8.000</td>\n",
       "      <td>56.000</td>\n",
       "      <td>5.807</td>\n",
       "      <td>5.511</td>\n",
       "      <td>4808.250</td>\n",
       "    </tr>\n",
       "    <tr>\n",
       "      <th>50%</th>\n",
       "      <td>72758.500</td>\n",
       "      <td>2010.000</td>\n",
       "      <td>2.000</td>\n",
       "      <td>4.000</td>\n",
       "      <td>45.000</td>\n",
       "      <td>30.000</td>\n",
       "      <td>45.000</td>\n",
       "      <td>10.000</td>\n",
       "      <td>120.000</td>\n",
       "      <td>6.420</td>\n",
       "      <td>5.550</td>\n",
       "      <td>9618.500</td>\n",
       "    </tr>\n",
       "    <tr>\n",
       "      <th>75%</th>\n",
       "      <td>182275.500</td>\n",
       "      <td>2016.000</td>\n",
       "      <td>2.000</td>\n",
       "      <td>6.000</td>\n",
       "      <td>90.000</td>\n",
       "      <td>60.000</td>\n",
       "      <td>90.000</td>\n",
       "      <td>12.000</td>\n",
       "      <td>381.750</td>\n",
       "      <td>7.011</td>\n",
       "      <td>5.688</td>\n",
       "      <td>14485.750</td>\n",
       "    </tr>\n",
       "    <tr>\n",
       "      <th>max</th>\n",
       "      <td>314040.000</td>\n",
       "      <td>2021.000</td>\n",
       "      <td>10.000</td>\n",
       "      <td>999.000</td>\n",
       "      <td>120000.000</td>\n",
       "      <td>60000.000</td>\n",
       "      <td>120000.000</td>\n",
       "      <td>25.000</td>\n",
       "      <td>96241.000</td>\n",
       "      <td>9.688</td>\n",
       "      <td>8.569</td>\n",
       "      <td>19345.000</td>\n",
       "    </tr>\n",
       "  </tbody>\n",
       "</table>\n",
       "</div>"
      ],
      "text/plain": [
       "               id  yearpublished  minplayers  maxplayers  playingtime  \\\n",
       "count   19230.000      19230.000   19230.000   19230.000    19230.000   \n",
       "mean   101482.306       1984.084       2.029       5.618       96.595   \n",
       "std     94272.241        212.855       0.686      15.372     1025.842   \n",
       "min         1.000      -3500.000       0.000       0.000        0.000   \n",
       "25%     10213.250       2000.000       2.000       4.000       30.000   \n",
       "50%     72758.500       2010.000       2.000       4.000       45.000   \n",
       "75%    182275.500       2016.000       2.000       6.000       90.000   \n",
       "max    314040.000       2021.000      10.000     999.000   120000.000   \n",
       "\n",
       "       minplaytime  maxplaytime     minage  usersrated    average  \\\n",
       "count    19230.000    19230.000  19230.000   19230.000  19230.000   \n",
       "mean        66.623       96.595      9.603     822.717      6.393   \n",
       "std        473.585     1025.842      3.631    3379.272      0.930   \n",
       "min          0.000        0.000      0.000      30.000      1.048   \n",
       "25%         20.000       30.000      8.000      56.000      5.807   \n",
       "50%         30.000       45.000     10.000     120.000      6.420   \n",
       "75%         60.000       90.000     12.000     381.750      7.011   \n",
       "max      60000.000   120000.000     25.000   96241.000      9.688   \n",
       "\n",
       "       bayesaverage  Board Game Rank  \n",
       "count     19230.000        19230.000  \n",
       "mean          5.690         9646.835  \n",
       "std           0.370         5588.107  \n",
       "min           3.536            1.000  \n",
       "25%           5.511         4808.250  \n",
       "50%           5.550         9618.500  \n",
       "75%           5.688        14485.750  \n",
       "max           8.569        19345.000  "
      ]
     },
     "execution_count": 90,
     "metadata": {},
     "output_type": "execute_result"
    }
   ],
   "source": [
    "#For only printing upto 3 decimal values\n",
    "set_option('precision', 3)\n",
    "#using desribe function for stats calculation\n",
    "df.describe()"
   ]
  },
  {
   "cell_type": "code",
   "execution_count": 91,
   "metadata": {},
   "outputs": [
    {
     "data": {
      "text/plain": [
       "id                 172062.250\n",
       "yearpublished          16.000\n",
       "minplayers              0.000\n",
       "maxplayers              2.000\n",
       "playingtime            60.000\n",
       "minplaytime            40.000\n",
       "maxplaytime            60.000\n",
       "minage                  4.000\n",
       "usersrated            325.750\n",
       "average                 1.204\n",
       "bayesaverage            0.177\n",
       "Board Game Rank      9677.500\n",
       "dtype: float64"
      ]
     },
     "execution_count": 91,
     "metadata": {},
     "output_type": "execute_result"
    }
   ],
   "source": [
    "#Interquartile range\n",
    "Q1 = df.quantile(0.25)\n",
    "Q3 = df.quantile(0.75)\n",
    "IQR = Q3 - Q1\n",
    "IQR"
   ]
  },
  {
   "cell_type": "code",
   "execution_count": 92,
   "metadata": {},
   "outputs": [
    {
     "data": {
      "text/plain": [
       "<AxesSubplot:xlabel='yearpublished', ylabel='Density'>"
      ]
     },
     "execution_count": 92,
     "metadata": {},
     "output_type": "execute_result"
    },
    {
     "data": {
      "image/png": "[encoded data removed]",
      "text/plain": [
       "<Figure size 432x288 with 1 Axes>"
      ]
     },
     "metadata": {
      "needs_background": "light"
     },
     "output_type": "display_data"
    }
   ],
   "source": [
    "#kdeplot skewness graph plot\n",
    "sns.kdeplot(df['yearpublished'], color = 'r')"
   ]
  },
  {
   "cell_type": "code",
   "execution_count": 93,
   "metadata": {},
   "outputs": [
    {
     "data": {
      "text/plain": [
       "<AxesSubplot:xlabel='minplayers', ylabel='Density'>"
      ]
     },
     "execution_count": 93,
     "metadata": {},
     "output_type": "execute_result"
    },
    {
     "data": {
      "image/png": "[encoded data removed]",
      "text/plain": [
       "<Figure size 432x288 with 1 Axes>"
      ]
     },
     "metadata": {
      "needs_background": "light"
     },
     "output_type": "display_data"
    }
   ],
   "source": [
    "#kdeplot skewness graph plot\n",
    "sns.kdeplot(df['minplayers'], color = 'b')"
   ]
  },
  {
   "cell_type": "code",
   "execution_count": 95,
   "metadata": {},
   "outputs": [
    {
     "data": {
      "text/plain": [
       "<AxesSubplot:xlabel='maxplayers', ylabel='Density'>"
      ]
     },
     "execution_count": 95,
     "metadata": {},
     "output_type": "execute_result"
    },
    {
     "data": {
      "image/png": "[encoded data removed]",
      "text/plain": [
       "<Figure size 432x288 with 1 Axes>"
      ]
     },
     "metadata": {
      "needs_background": "light"
     },
     "output_type": "display_data"
    }
   ],
   "source": [
    "#kdeplot skewness graph plot\n",
    "sns.kdeplot(df['maxplayers'], color = 'g')"
   ]
  },
  {
   "cell_type": "code",
   "execution_count": 96,
   "metadata": {},
   "outputs": [
    {
     "data": {
      "text/plain": [
       "<AxesSubplot:xlabel='minplaytime', ylabel='Density'>"
      ]
     },
     "execution_count": 96,
     "metadata": {},
     "output_type": "execute_result"
    },
    {
     "data": {
      "image/png": "[encoded data removed]",
      "text/plain": [
       "<Figure size 432x288 with 1 Axes>"
      ]
     },
     "metadata": {
      "needs_background": "light"
     },
     "output_type": "display_data"
    }
   ],
   "source": [
    "#kdeplot skewness graph plot\n",
    "sns.kdeplot(df['minplaytime'], color = 'r')"
   ]
  },
  {
   "cell_type": "code",
   "execution_count": 98,
   "metadata": {},
   "outputs": [
    {
     "data": {
      "text/plain": [
       "<AxesSubplot:xlabel='maxplaytime', ylabel='Density'>"
      ]
     },
     "execution_count": 98,
     "metadata": {},
     "output_type": "execute_result"
    },
    {
     "data": {
      "image/png": "[encoded data removed]",
      "text/plain": [
       "<Figure size 432x288 with 1 Axes>"
      ]
     },
     "metadata": {
      "needs_background": "light"
     },
     "output_type": "display_data"
    }
   ],
   "source": [
    "#kdeplot skewness graph plot\n",
    "sns.kdeplot(df['maxplaytime'], color = 'b')"
   ]
  },
  {
   "cell_type": "code",
   "execution_count": 99,
   "metadata": {},
   "outputs": [
    {
     "data": {
      "text/plain": [
       "<AxesSubplot:xlabel='minage', ylabel='Density'>"
      ]
     },
     "execution_count": 99,
     "metadata": {},
     "output_type": "execute_result"
    },
    {
     "data": {
      "image/png": "[encoded data removed]",
      "text/plain": [
       "<Figure size 432x288 with 1 Axes>"
      ]
     },
     "metadata": {
      "needs_background": "light"
     },
     "output_type": "display_data"
    }
   ],
   "source": [
    "#kdeplot skewness graph plot\n",
    "sns.kdeplot(df['minage'], color = 'g')"
   ]
  },
  {
   "cell_type": "code",
   "execution_count": 100,
   "metadata": {},
   "outputs": [
    {
     "data": {
      "text/plain": [
       "<AxesSubplot:xlabel='average', ylabel='Density'>"
      ]
     },
     "execution_count": 100,
     "metadata": {},
     "output_type": "execute_result"
    },
    {
     "data": {
      "image/png": "[encoded data removed]",
      "text/plain": [
       "<Figure size 432x288 with 1 Axes>"
      ]
     },
     "metadata": {
      "needs_background": "light"
     },
     "output_type": "display_data"
    }
   ],
   "source": [
    "#kdeplot skewness graph plot\n",
    "sns.kdeplot(df['average'], color = 'r')"
   ]
  },
  {
   "cell_type": "code",
   "execution_count": 102,
   "metadata": {},
   "outputs": [
    {
     "data": {
      "text/plain": [
       "<AxesSubplot:xlabel='bayesaverage', ylabel='Density'>"
      ]
     },
     "execution_count": 102,
     "metadata": {},
     "output_type": "execute_result"
    },
    {
     "data": {
      "image/png": "[encoded data removed]",
      "text/plain": [
       "<Figure size 432x288 with 1 Axes>"
      ]
     },
     "metadata": {
      "needs_background": "light"
     },
     "output_type": "display_data"
    }
   ],
   "source": [
    "#kdeplot skewness graph plot\n",
    "sns.kdeplot(df['bayesaverage'], color = 'b')"
   ]
  },
  {
   "cell_type": "code",
   "execution_count": 103,
   "metadata": {},
   "outputs": [
    {
     "data": {
      "text/plain": [
       "id                   0.448\n",
       "yearpublished      -11.183\n",
       "minplayers           1.715\n",
       "maxplayers          44.558\n",
       "playingtime         94.695\n",
       "minplaytime        109.102\n",
       "maxplaytime         94.695\n",
       "minage              -0.856\n",
       "usersrated          12.151\n",
       "average             -0.298\n",
       "bayesaverage         2.773\n",
       "Board Game Rank      0.009\n",
       "dtype: float64"
      ]
     },
     "execution_count": 103,
     "metadata": {},
     "output_type": "execute_result"
    }
   ],
   "source": [
    "#Skew\n",
    "skew = df.skew()\n",
    "skew"
   ]
  },
  {
   "cell_type": "code",
   "execution_count": 104,
   "metadata": {},
   "outputs": [],
   "source": [
    "# Class distribution not calculated because no target attribute"
   ]
  },
  {
   "cell_type": "code",
   "execution_count": 105,
   "metadata": {},
   "outputs": [
    {
     "data": {
      "text/html": [
       "<div>\n",
       "<style scoped>\n",
       "    .dataframe tbody tr th:only-of-type {\n",
       "        vertical-align: middle;\n",
       "    }\n",
       "\n",
       "    .dataframe tbody tr th {\n",
       "        vertical-align: top;\n",
       "    }\n",
       "\n",
       "    .dataframe thead th {\n",
       "        text-align: right;\n",
       "    }\n",
       "</style>\n",
       "<table border=\"1\" class=\"dataframe\">\n",
       "  <thead>\n",
       "    <tr style=\"text-align: right;\">\n",
       "      <th></th>\n",
       "      <th>id</th>\n",
       "      <th>yearpublished</th>\n",
       "      <th>minplayers</th>\n",
       "      <th>maxplayers</th>\n",
       "      <th>playingtime</th>\n",
       "      <th>minplaytime</th>\n",
       "      <th>maxplaytime</th>\n",
       "      <th>minage</th>\n",
       "      <th>usersrated</th>\n",
       "      <th>average</th>\n",
       "      <th>bayesaverage</th>\n",
       "      <th>Board Game Rank</th>\n",
       "    </tr>\n",
       "  </thead>\n",
       "  <tbody>\n",
       "    <tr>\n",
       "      <th>id</th>\n",
       "      <td>8.887e+09</td>\n",
       "      <td>1.953e+06</td>\n",
       "      <td>-6155.694</td>\n",
       "      <td>23790.532</td>\n",
       "      <td>-8.336e+05</td>\n",
       "      <td>-2.339e+06</td>\n",
       "      <td>-8.336e+05</td>\n",
       "      <td>35176.900</td>\n",
       "      <td>-5.275e+06</td>\n",
       "      <td>34541.845</td>\n",
       "      <td>4409.763</td>\n",
       "      <td>-1.236e+08</td>\n",
       "    </tr>\n",
       "    <tr>\n",
       "      <th>yearpublished</th>\n",
       "      <td>1.953e+06</td>\n",
       "      <td>4.531e+04</td>\n",
       "      <td>-0.739</td>\n",
       "      <td>-10.241</td>\n",
       "      <td>1.126e+03</td>\n",
       "      <td>5.024e+02</td>\n",
       "      <td>1.126e+03</td>\n",
       "      <td>65.469</td>\n",
       "      <td>5.907e+03</td>\n",
       "      <td>16.347</td>\n",
       "      <td>4.537</td>\n",
       "      <td>-9.610e+04</td>\n",
       "    </tr>\n",
       "    <tr>\n",
       "      <th>minplayers</th>\n",
       "      <td>-6.156e+03</td>\n",
       "      <td>-7.386e-01</td>\n",
       "      <td>0.470</td>\n",
       "      <td>0.869</td>\n",
       "      <td>6.916e+00</td>\n",
       "      <td>1.477e+01</td>\n",
       "      <td>6.916e+00</td>\n",
       "      <td>0.128</td>\n",
       "      <td>-1.740e+01</td>\n",
       "      <td>-0.097</td>\n",
       "      <td>-0.017</td>\n",
       "      <td>3.413e+02</td>\n",
       "    </tr>\n",
       "    <tr>\n",
       "      <th>maxplayers</th>\n",
       "      <td>2.379e+04</td>\n",
       "      <td>-1.024e+01</td>\n",
       "      <td>0.869</td>\n",
       "      <td>236.300</td>\n",
       "      <td>-5.459e+01</td>\n",
       "      <td>-4.279e+01</td>\n",
       "      <td>-5.459e+01</td>\n",
       "      <td>0.366</td>\n",
       "      <td>-8.687e+01</td>\n",
       "      <td>-0.526</td>\n",
       "      <td>-0.097</td>\n",
       "      <td>1.748e+03</td>\n",
       "    </tr>\n",
       "    <tr>\n",
       "      <th>playingtime</th>\n",
       "      <td>-8.336e+05</td>\n",
       "      <td>1.126e+03</td>\n",
       "      <td>6.916</td>\n",
       "      <td>-54.594</td>\n",
       "      <td>1.052e+06</td>\n",
       "      <td>2.287e+05</td>\n",
       "      <td>1.052e+06</td>\n",
       "      <td>121.880</td>\n",
       "      <td>-1.241e+04</td>\n",
       "      <td>60.283</td>\n",
       "      <td>3.066</td>\n",
       "      <td>-1.476e+05</td>\n",
       "    </tr>\n",
       "    <tr>\n",
       "      <th>minplaytime</th>\n",
       "      <td>-2.339e+06</td>\n",
       "      <td>5.024e+02</td>\n",
       "      <td>14.774</td>\n",
       "      <td>-42.790</td>\n",
       "      <td>2.287e+05</td>\n",
       "      <td>2.243e+05</td>\n",
       "      <td>2.287e+05</td>\n",
       "      <td>59.629</td>\n",
       "      <td>-8.018e+03</td>\n",
       "      <td>17.085</td>\n",
       "      <td>0.857</td>\n",
       "      <td>-5.013e+04</td>\n",
       "    </tr>\n",
       "    <tr>\n",
       "      <th>maxplaytime</th>\n",
       "      <td>-8.336e+05</td>\n",
       "      <td>1.126e+03</td>\n",
       "      <td>6.916</td>\n",
       "      <td>-54.594</td>\n",
       "      <td>1.052e+06</td>\n",
       "      <td>2.287e+05</td>\n",
       "      <td>1.052e+06</td>\n",
       "      <td>121.880</td>\n",
       "      <td>-1.241e+04</td>\n",
       "      <td>60.283</td>\n",
       "      <td>3.066</td>\n",
       "      <td>-1.476e+05</td>\n",
       "    </tr>\n",
       "    <tr>\n",
       "      <th>minage</th>\n",
       "      <td>3.518e+04</td>\n",
       "      <td>6.547e+01</td>\n",
       "      <td>0.128</td>\n",
       "      <td>0.366</td>\n",
       "      <td>1.219e+02</td>\n",
       "      <td>5.963e+01</td>\n",
       "      <td>1.219e+02</td>\n",
       "      <td>13.187</td>\n",
       "      <td>8.830e+02</td>\n",
       "      <td>0.641</td>\n",
       "      <td>0.258</td>\n",
       "      <td>-4.306e+03</td>\n",
       "    </tr>\n",
       "    <tr>\n",
       "      <th>usersrated</th>\n",
       "      <td>-5.275e+06</td>\n",
       "      <td>5.907e+03</td>\n",
       "      <td>-17.405</td>\n",
       "      <td>-86.868</td>\n",
       "      <td>-1.241e+04</td>\n",
       "      <td>-8.018e+03</td>\n",
       "      <td>-1.241e+04</td>\n",
       "      <td>883.016</td>\n",
       "      <td>1.142e+07</td>\n",
       "      <td>544.713</td>\n",
       "      <td>793.848</td>\n",
       "      <td>-5.909e+06</td>\n",
       "    </tr>\n",
       "    <tr>\n",
       "      <th>average</th>\n",
       "      <td>3.454e+04</td>\n",
       "      <td>1.635e+01</td>\n",
       "      <td>-0.097</td>\n",
       "      <td>-0.526</td>\n",
       "      <td>6.028e+01</td>\n",
       "      <td>1.709e+01</td>\n",
       "      <td>6.028e+01</td>\n",
       "      <td>0.641</td>\n",
       "      <td>5.447e+02</td>\n",
       "      <td>0.865</td>\n",
       "      <td>0.168</td>\n",
       "      <td>-3.855e+03</td>\n",
       "    </tr>\n",
       "    <tr>\n",
       "      <th>bayesaverage</th>\n",
       "      <td>4.410e+03</td>\n",
       "      <td>4.537e+00</td>\n",
       "      <td>-0.017</td>\n",
       "      <td>-0.097</td>\n",
       "      <td>3.066e+00</td>\n",
       "      <td>8.570e-01</td>\n",
       "      <td>3.066e+00</td>\n",
       "      <td>0.258</td>\n",
       "      <td>7.938e+02</td>\n",
       "      <td>0.168</td>\n",
       "      <td>0.137</td>\n",
       "      <td>-1.478e+03</td>\n",
       "    </tr>\n",
       "    <tr>\n",
       "      <th>Board Game Rank</th>\n",
       "      <td>-1.236e+08</td>\n",
       "      <td>-9.610e+04</td>\n",
       "      <td>341.289</td>\n",
       "      <td>1747.822</td>\n",
       "      <td>-1.476e+05</td>\n",
       "      <td>-5.013e+04</td>\n",
       "      <td>-1.476e+05</td>\n",
       "      <td>-4305.541</td>\n",
       "      <td>-5.909e+06</td>\n",
       "      <td>-3855.252</td>\n",
       "      <td>-1478.477</td>\n",
       "      <td>3.123e+07</td>\n",
       "    </tr>\n",
       "  </tbody>\n",
       "</table>\n",
       "</div>"
      ],
      "text/plain": [
       "                        id  yearpublished  minplayers  maxplayers  \\\n",
       "id               8.887e+09      1.953e+06   -6155.694   23790.532   \n",
       "yearpublished    1.953e+06      4.531e+04      -0.739     -10.241   \n",
       "minplayers      -6.156e+03     -7.386e-01       0.470       0.869   \n",
       "maxplayers       2.379e+04     -1.024e+01       0.869     236.300   \n",
       "playingtime     -8.336e+05      1.126e+03       6.916     -54.594   \n",
       "minplaytime     -2.339e+06      5.024e+02      14.774     -42.790   \n",
       "maxplaytime     -8.336e+05      1.126e+03       6.916     -54.594   \n",
       "minage           3.518e+04      6.547e+01       0.128       0.366   \n",
       "usersrated      -5.275e+06      5.907e+03     -17.405     -86.868   \n",
       "average          3.454e+04      1.635e+01      -0.097      -0.526   \n",
       "bayesaverage     4.410e+03      4.537e+00      -0.017      -0.097   \n",
       "Board Game Rank -1.236e+08     -9.610e+04     341.289    1747.822   \n",
       "\n",
       "                 playingtime  minplaytime  maxplaytime     minage  usersrated  \\\n",
       "id                -8.336e+05   -2.339e+06   -8.336e+05  35176.900  -5.275e+06   \n",
       "yearpublished      1.126e+03    5.024e+02    1.126e+03     65.469   5.907e+03   \n",
       "minplayers         6.916e+00    1.477e+01    6.916e+00      0.128  -1.740e+01   \n",
       "maxplayers        -5.459e+01   -4.279e+01   -5.459e+01      0.366  -8.687e+01   \n",
       "playingtime        1.052e+06    2.287e+05    1.052e+06    121.880  -1.241e+04   \n",
       "minplaytime        2.287e+05    2.243e+05    2.287e+05     59.629  -8.018e+03   \n",
       "maxplaytime        1.052e+06    2.287e+05    1.052e+06    121.880  -1.241e+04   \n",
       "minage             1.219e+02    5.963e+01    1.219e+02     13.187   8.830e+02   \n",
       "usersrated        -1.241e+04   -8.018e+03   -1.241e+04    883.016   1.142e+07   \n",
       "average            6.028e+01    1.709e+01    6.028e+01      0.641   5.447e+02   \n",
       "bayesaverage       3.066e+00    8.570e-01    3.066e+00      0.258   7.938e+02   \n",
       "Board Game Rank   -1.476e+05   -5.013e+04   -1.476e+05  -4305.541  -5.909e+06   \n",
       "\n",
       "                   average  bayesaverage  Board Game Rank  \n",
       "id               34541.845      4409.763       -1.236e+08  \n",
       "yearpublished       16.347         4.537       -9.610e+04  \n",
       "minplayers          -0.097        -0.017        3.413e+02  \n",
       "maxplayers          -0.526        -0.097        1.748e+03  \n",
       "playingtime         60.283         3.066       -1.476e+05  \n",
       "minplaytime         17.085         0.857       -5.013e+04  \n",
       "maxplaytime         60.283         3.066       -1.476e+05  \n",
       "minage               0.641         0.258       -4.306e+03  \n",
       "usersrated         544.713       793.848       -5.909e+06  \n",
       "average              0.865         0.168       -3.855e+03  \n",
       "bayesaverage         0.168         0.137       -1.478e+03  \n",
       "Board Game Rank  -3855.252     -1478.477        3.123e+07  "
      ]
     },
     "execution_count": 105,
     "metadata": {},
     "output_type": "execute_result"
    }
   ],
   "source": [
    "#Covariance\n",
    "set_option('precision', 3)\n",
    "covariance = df.cov()\n",
    "covariance"
   ]
  },
  {
   "cell_type": "code",
   "execution_count": 106,
   "metadata": {},
   "outputs": [
    {
     "data": {
      "text/html": [
       "<div>\n",
       "<style scoped>\n",
       "    .dataframe tbody tr th:only-of-type {\n",
       "        vertical-align: middle;\n",
       "    }\n",
       "\n",
       "    .dataframe tbody tr th {\n",
       "        vertical-align: top;\n",
       "    }\n",
       "\n",
       "    .dataframe thead th {\n",
       "        text-align: right;\n",
       "    }\n",
       "</style>\n",
       "<table border=\"1\" class=\"dataframe\">\n",
       "  <thead>\n",
       "    <tr style=\"text-align: right;\">\n",
       "      <th></th>\n",
       "      <th>id</th>\n",
       "      <th>yearpublished</th>\n",
       "      <th>minplayers</th>\n",
       "      <th>maxplayers</th>\n",
       "      <th>playingtime</th>\n",
       "      <th>minplaytime</th>\n",
       "      <th>maxplaytime</th>\n",
       "      <th>minage</th>\n",
       "      <th>usersrated</th>\n",
       "      <th>average</th>\n",
       "      <th>bayesaverage</th>\n",
       "      <th>Board Game Rank</th>\n",
       "    </tr>\n",
       "  </thead>\n",
       "  <tbody>\n",
       "    <tr>\n",
       "      <th>id</th>\n",
       "      <td>1.000</td>\n",
       "      <td>0.097</td>\n",
       "      <td>-0.095</td>\n",
       "      <td>0.016</td>\n",
       "      <td>-0.009</td>\n",
       "      <td>-0.052</td>\n",
       "      <td>-0.009</td>\n",
       "      <td>0.103</td>\n",
       "      <td>-0.017</td>\n",
       "      <td>0.394</td>\n",
       "      <td>0.126</td>\n",
       "      <td>-0.235</td>\n",
       "    </tr>\n",
       "    <tr>\n",
       "      <th>yearpublished</th>\n",
       "      <td>0.097</td>\n",
       "      <td>1.000</td>\n",
       "      <td>-0.005</td>\n",
       "      <td>-0.003</td>\n",
       "      <td>0.005</td>\n",
       "      <td>0.005</td>\n",
       "      <td>0.005</td>\n",
       "      <td>0.085</td>\n",
       "      <td>0.008</td>\n",
       "      <td>0.083</td>\n",
       "      <td>0.058</td>\n",
       "      <td>-0.081</td>\n",
       "    </tr>\n",
       "    <tr>\n",
       "      <th>minplayers</th>\n",
       "      <td>-0.095</td>\n",
       "      <td>-0.005</td>\n",
       "      <td>1.000</td>\n",
       "      <td>0.082</td>\n",
       "      <td>0.010</td>\n",
       "      <td>0.045</td>\n",
       "      <td>0.010</td>\n",
       "      <td>0.051</td>\n",
       "      <td>-0.008</td>\n",
       "      <td>-0.152</td>\n",
       "      <td>-0.068</td>\n",
       "      <td>0.089</td>\n",
       "    </tr>\n",
       "    <tr>\n",
       "      <th>maxplayers</th>\n",
       "      <td>0.016</td>\n",
       "      <td>-0.003</td>\n",
       "      <td>0.082</td>\n",
       "      <td>1.000</td>\n",
       "      <td>-0.003</td>\n",
       "      <td>-0.006</td>\n",
       "      <td>-0.003</td>\n",
       "      <td>0.007</td>\n",
       "      <td>-0.002</td>\n",
       "      <td>-0.037</td>\n",
       "      <td>-0.017</td>\n",
       "      <td>0.020</td>\n",
       "    </tr>\n",
       "    <tr>\n",
       "      <th>playingtime</th>\n",
       "      <td>-0.009</td>\n",
       "      <td>0.005</td>\n",
       "      <td>0.010</td>\n",
       "      <td>-0.003</td>\n",
       "      <td>1.000</td>\n",
       "      <td>0.471</td>\n",
       "      <td>1.000</td>\n",
       "      <td>0.033</td>\n",
       "      <td>-0.004</td>\n",
       "      <td>0.063</td>\n",
       "      <td>0.008</td>\n",
       "      <td>-0.026</td>\n",
       "    </tr>\n",
       "    <tr>\n",
       "      <th>minplaytime</th>\n",
       "      <td>-0.052</td>\n",
       "      <td>0.005</td>\n",
       "      <td>0.045</td>\n",
       "      <td>-0.006</td>\n",
       "      <td>0.471</td>\n",
       "      <td>1.000</td>\n",
       "      <td>0.471</td>\n",
       "      <td>0.035</td>\n",
       "      <td>-0.005</td>\n",
       "      <td>0.039</td>\n",
       "      <td>0.005</td>\n",
       "      <td>-0.019</td>\n",
       "    </tr>\n",
       "    <tr>\n",
       "      <th>maxplaytime</th>\n",
       "      <td>-0.009</td>\n",
       "      <td>0.005</td>\n",
       "      <td>0.010</td>\n",
       "      <td>-0.003</td>\n",
       "      <td>1.000</td>\n",
       "      <td>0.471</td>\n",
       "      <td>1.000</td>\n",
       "      <td>0.033</td>\n",
       "      <td>-0.004</td>\n",
       "      <td>0.063</td>\n",
       "      <td>0.008</td>\n",
       "      <td>-0.026</td>\n",
       "    </tr>\n",
       "    <tr>\n",
       "      <th>minage</th>\n",
       "      <td>0.103</td>\n",
       "      <td>0.085</td>\n",
       "      <td>0.051</td>\n",
       "      <td>0.007</td>\n",
       "      <td>0.033</td>\n",
       "      <td>0.035</td>\n",
       "      <td>0.033</td>\n",
       "      <td>1.000</td>\n",
       "      <td>0.072</td>\n",
       "      <td>0.190</td>\n",
       "      <td>0.192</td>\n",
       "      <td>-0.212</td>\n",
       "    </tr>\n",
       "    <tr>\n",
       "      <th>usersrated</th>\n",
       "      <td>-0.017</td>\n",
       "      <td>0.008</td>\n",
       "      <td>-0.008</td>\n",
       "      <td>-0.002</td>\n",
       "      <td>-0.004</td>\n",
       "      <td>-0.005</td>\n",
       "      <td>-0.004</td>\n",
       "      <td>0.072</td>\n",
       "      <td>1.000</td>\n",
       "      <td>0.173</td>\n",
       "      <td>0.634</td>\n",
       "      <td>-0.313</td>\n",
       "    </tr>\n",
       "    <tr>\n",
       "      <th>average</th>\n",
       "      <td>0.394</td>\n",
       "      <td>0.083</td>\n",
       "      <td>-0.152</td>\n",
       "      <td>-0.037</td>\n",
       "      <td>0.063</td>\n",
       "      <td>0.039</td>\n",
       "      <td>0.063</td>\n",
       "      <td>0.190</td>\n",
       "      <td>0.173</td>\n",
       "      <td>1.000</td>\n",
       "      <td>0.487</td>\n",
       "      <td>-0.742</td>\n",
       "    </tr>\n",
       "    <tr>\n",
       "      <th>bayesaverage</th>\n",
       "      <td>0.126</td>\n",
       "      <td>0.058</td>\n",
       "      <td>-0.068</td>\n",
       "      <td>-0.017</td>\n",
       "      <td>0.008</td>\n",
       "      <td>0.005</td>\n",
       "      <td>0.008</td>\n",
       "      <td>0.192</td>\n",
       "      <td>0.634</td>\n",
       "      <td>0.487</td>\n",
       "      <td>1.000</td>\n",
       "      <td>-0.714</td>\n",
       "    </tr>\n",
       "    <tr>\n",
       "      <th>Board Game Rank</th>\n",
       "      <td>-0.235</td>\n",
       "      <td>-0.081</td>\n",
       "      <td>0.089</td>\n",
       "      <td>0.020</td>\n",
       "      <td>-0.026</td>\n",
       "      <td>-0.019</td>\n",
       "      <td>-0.026</td>\n",
       "      <td>-0.212</td>\n",
       "      <td>-0.313</td>\n",
       "      <td>-0.742</td>\n",
       "      <td>-0.714</td>\n",
       "      <td>1.000</td>\n",
       "    </tr>\n",
       "  </tbody>\n",
       "</table>\n",
       "</div>"
      ],
      "text/plain": [
       "                    id  yearpublished  minplayers  maxplayers  playingtime  \\\n",
       "id               1.000          0.097      -0.095       0.016       -0.009   \n",
       "yearpublished    0.097          1.000      -0.005      -0.003        0.005   \n",
       "minplayers      -0.095         -0.005       1.000       0.082        0.010   \n",
       "maxplayers       0.016         -0.003       0.082       1.000       -0.003   \n",
       "playingtime     -0.009          0.005       0.010      -0.003        1.000   \n",
       "minplaytime     -0.052          0.005       0.045      -0.006        0.471   \n",
       "maxplaytime     -0.009          0.005       0.010      -0.003        1.000   \n",
       "minage           0.103          0.085       0.051       0.007        0.033   \n",
       "usersrated      -0.017          0.008      -0.008      -0.002       -0.004   \n",
       "average          0.394          0.083      -0.152      -0.037        0.063   \n",
       "bayesaverage     0.126          0.058      -0.068      -0.017        0.008   \n",
       "Board Game Rank -0.235         -0.081       0.089       0.020       -0.026   \n",
       "\n",
       "                 minplaytime  maxplaytime  minage  usersrated  average  \\\n",
       "id                    -0.052       -0.009   0.103      -0.017    0.394   \n",
       "yearpublished          0.005        0.005   0.085       0.008    0.083   \n",
       "minplayers             0.045        0.010   0.051      -0.008   -0.152   \n",
       "maxplayers            -0.006       -0.003   0.007      -0.002   -0.037   \n",
       "playingtime            0.471        1.000   0.033      -0.004    0.063   \n",
       "minplaytime            1.000        0.471   0.035      -0.005    0.039   \n",
       "maxplaytime            0.471        1.000   0.033      -0.004    0.063   \n",
       "minage                 0.035        0.033   1.000       0.072    0.190   \n",
       "usersrated            -0.005       -0.004   0.072       1.000    0.173   \n",
       "average                0.039        0.063   0.190       0.173    1.000   \n",
       "bayesaverage           0.005        0.008   0.192       0.634    0.487   \n",
       "Board Game Rank       -0.019       -0.026  -0.212      -0.313   -0.742   \n",
       "\n",
       "                 bayesaverage  Board Game Rank  \n",
       "id                      0.126           -0.235  \n",
       "yearpublished           0.058           -0.081  \n",
       "minplayers             -0.068            0.089  \n",
       "maxplayers             -0.017            0.020  \n",
       "playingtime             0.008           -0.026  \n",
       "minplaytime             0.005           -0.019  \n",
       "maxplaytime             0.008           -0.026  \n",
       "minage                  0.192           -0.212  \n",
       "usersrated              0.634           -0.313  \n",
       "average                 0.487           -0.742  \n",
       "bayesaverage            1.000           -0.714  \n",
       "Board Game Rank        -0.714            1.000  "
      ]
     },
     "execution_count": 106,
     "metadata": {},
     "output_type": "execute_result"
    }
   ],
   "source": [
    "#Pairwise Pearson Correlations\n",
    "set_option('precision', 3)\n",
    "correlations = df.corr(method='pearson')\n",
    "correlations"
   ]
  },
  {
   "cell_type": "code",
   "execution_count": 107,
   "metadata": {},
   "outputs": [],
   "source": [
    "#Error while calculating Heatmap\n",
    "#sns.heatmap(df.corr(), vmin=-1, vmax=1, cmap=\"Y1GnBu\", annot = True)"
   ]
  },
  {
   "cell_type": "code",
   "execution_count": 108,
   "metadata": {},
   "outputs": [],
   "source": [
    "#Chi square test not carries out because no target attribute"
   ]
  },
  {
   "cell_type": "code",
   "execution_count": null,
   "metadata": {},
   "outputs": [],
   "source": []
  }
 ],
 "metadata": {
  "kernelspec": {
   "display_name": "Python 3",
   "language": "python",
   "name": "python3"
  },
  "language_info": {
   "codemirror_mode": {
    "name": "ipython",
    "version": 3
   },
   "file_extension": ".py",
   "mimetype": "text/x-python",
   "name": "python",
   "nbconvert_exporter": "python",
   "pygments_lexer": "ipython3",
   "version": "3.7.6"
  }
 },
 "nbformat": 4,
 "nbformat_minor": 4
}
