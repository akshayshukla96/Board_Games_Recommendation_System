{
 "cells": [
  {
   "cell_type": "code",
   "execution_count": 1,
   "metadata": {},
   "outputs": [],
   "source": [
    "import pandas as pd\n",
    "import numpy as np\n",
    "#Built-in z-score normalizer\n",
    "from sklearn.preprocessing import StandardScaler\n",
    "scaler = StandardScaler()"
   ]
  },
  {
   "cell_type": "code",
   "execution_count": 2,
   "metadata": {},
   "outputs": [
    {
     "data": {
      "text/html": [
       "<div>\n",
       "<style scoped>\n",
       "    .dataframe tbody tr th:only-of-type {\n",
       "        vertical-align: middle;\n",
       "    }\n",
       "\n",
       "    .dataframe tbody tr th {\n",
       "        vertical-align: top;\n",
       "    }\n",
       "\n",
       "    .dataframe thead th {\n",
       "        text-align: right;\n",
       "    }\n",
       "</style>\n",
       "<table border=\"1\" class=\"dataframe\">\n",
       "  <thead>\n",
       "    <tr style=\"text-align: right;\">\n",
       "      <th></th>\n",
       "      <th>user</th>\n",
       "      <th>rating</th>\n",
       "      <th>comment</th>\n",
       "      <th>ID</th>\n",
       "      <th>name</th>\n",
       "    </tr>\n",
       "  </thead>\n",
       "  <tbody>\n",
       "    <tr>\n",
       "      <th>0</th>\n",
       "      <td>Torsten</td>\n",
       "      <td>10.0</td>\n",
       "      <td>NaN</td>\n",
       "      <td>30549</td>\n",
       "      <td>Pandemic</td>\n",
       "    </tr>\n",
       "    <tr>\n",
       "      <th>1</th>\n",
       "      <td>mitnachtKAUBO-I</td>\n",
       "      <td>10.0</td>\n",
       "      <td>Hands down my favorite new game of BGG CON 200...</td>\n",
       "      <td>30549</td>\n",
       "      <td>Pandemic</td>\n",
       "    </tr>\n",
       "    <tr>\n",
       "      <th>2</th>\n",
       "      <td>avlawn</td>\n",
       "      <td>10.0</td>\n",
       "      <td>I tend to either love or easily tire of co-op ...</td>\n",
       "      <td>30549</td>\n",
       "      <td>Pandemic</td>\n",
       "    </tr>\n",
       "    <tr>\n",
       "      <th>3</th>\n",
       "      <td>Mike Mayer</td>\n",
       "      <td>10.0</td>\n",
       "      <td>NaN</td>\n",
       "      <td>30549</td>\n",
       "      <td>Pandemic</td>\n",
       "    </tr>\n",
       "  </tbody>\n",
       "</table>\n",
       "</div>"
      ],
      "text/plain": [
       "              user  rating                                            comment  \\\n",
       "0          Torsten    10.0                                                NaN   \n",
       "1  mitnachtKAUBO-I    10.0  Hands down my favorite new game of BGG CON 200...   \n",
       "2           avlawn    10.0  I tend to either love or easily tire of co-op ...   \n",
       "3       Mike Mayer    10.0                                                NaN   \n",
       "\n",
       "      ID      name  \n",
       "0  30549  Pandemic  \n",
       "1  30549  Pandemic  \n",
       "2  30549  Pandemic  \n",
       "3  30549  Pandemic  "
      ]
     },
     "execution_count": 2,
     "metadata": {},
     "output_type": "execute_result"
    }
   ],
   "source": [
    "#Dropping unnecessary columns\n",
    "#Deleting column Unnamed:0\n",
    "missing_values = [\"n/a\", \"na\", \"--\", \" \"]\n",
    "df = pd.read_csv('bgg-15m-reviews.csv', na_values = missing_values)\n",
    "df = df.drop(columns=['Unnamed: 0'])\n",
    "df.head(4)"
   ]
  },
  {
   "cell_type": "code",
   "execution_count": 3,
   "metadata": {},
   "outputs": [],
   "source": [
    "#Converting random noise values to numeric values for the rating column\n",
    "df['rating'] = pd.to_numeric(df['rating'])"
   ]
  },
  {
   "cell_type": "code",
   "execution_count": 4,
   "metadata": {},
   "outputs": [
    {
     "data": {
      "text/plain": [
       "user             66\n",
       "rating            0\n",
       "comment    12832316\n",
       "ID                0\n",
       "name              0\n",
       "dtype: int64"
      ]
     },
     "execution_count": 4,
     "metadata": {},
     "output_type": "execute_result"
    }
   ],
   "source": [
    "#Finding column frequency to delete columns having >60% null values \n",
    "#Column Frequency\n",
    "df.isnull().sum(axis = 0)"
   ]
  },
  {
   "cell_type": "code",
   "execution_count": 7,
   "metadata": {},
   "outputs": [],
   "source": [
    "#Replacing 0 with Null values in the rating colunm\n",
    "df['rating'] = df['rating'].map(lambda x:x if x !=0 else None)"
   ]
  },
  {
   "cell_type": "code",
   "execution_count": 8,
   "metadata": {},
   "outputs": [
    {
     "data": {
      "text/plain": [
       "user             66\n",
       "rating            0\n",
       "comment    12832316\n",
       "ID                0\n",
       "name              0\n",
       "dtype: int64"
      ]
     },
     "execution_count": 8,
     "metadata": {},
     "output_type": "execute_result"
    }
   ],
   "source": [
    "df.isnull().sum(axis = 0)"
   ]
  },
  {
   "cell_type": "code",
   "execution_count": 9,
   "metadata": {},
   "outputs": [],
   "source": [
    "#Even after checking for all possible null values in the rating column, the number of null values is 0\n",
    "#Comment Column has 81% Null Values. As it is all text data, we cannot fill these null values unless we use NLP. NLP is out of scopre for this project."
   ]
  },
  {
   "cell_type": "code",
   "execution_count": 10,
   "metadata": {},
   "outputs": [],
   "source": [
    "#Also finding if any particular tuple contains more than 60% null values\n",
    "for item in df.isnull().sum(axis = 1)/len(df.columns)*100:\n",
    "    if item > 60.0:\n",
    "        #If you cannot see this print statement that means null values are not greater than 60%\n",
    "        print('Rows which have greater than 60% null values')"
   ]
  },
  {
   "cell_type": "code",
   "execution_count": 11,
   "metadata": {},
   "outputs": [],
   "source": [
    "#No tuples contain more than 60% null values. "
   ]
  },
  {
   "cell_type": "code",
   "execution_count": 12,
   "metadata": {},
   "outputs": [
    {
     "name": "stdout",
     "output_type": "stream",
     "text": [
      "2.0\n"
     ]
    }
   ],
   "source": [
    "#Finding Outliers in the Rating using IQR \n",
    "Q1 = df['rating'].quantile(0.25)\n",
    "Q3 = df['rating'].quantile(0.75)\n",
    "IQR = Q3 - Q1\n",
    "print(IQR)"
   ]
  },
  {
   "cell_type": "code",
   "execution_count": 13,
   "metadata": {},
   "outputs": [],
   "source": [
    "#Q1 = 6, Q3 = 8 and IQR = 2\n",
    "#((df < (Q1-1.5*IQR)) | (df > (Q3+1.5*IQR))) will give a value which is less than 3\n",
    "#As per the Outlier guidelines, all the ratings below 3 can be dropped.\n",
    "#but we are keeping them as it is as they are important for our model."
   ]
  },
  {
   "cell_type": "code",
   "execution_count": 14,
   "metadata": {},
   "outputs": [
    {
     "data": {
      "text/plain": [
       "count    1.582327e+07\n",
       "mean     7.054843e+00\n",
       "std      1.599649e+00\n",
       "min      1.401300e-45\n",
       "25%      6.000000e+00\n",
       "50%      7.000000e+00\n",
       "75%      8.000000e+00\n",
       "max      1.000000e+01\n",
       "Name: rating, dtype: float64"
      ]
     },
     "execution_count": 14,
     "metadata": {},
     "output_type": "execute_result"
    }
   ],
   "source": [
    "# Describe before Data Normalization\n",
    "df['rating'].describe()"
   ]
  },
  {
   "cell_type": "code",
   "execution_count": 15,
   "metadata": {},
   "outputs": [
    {
     "data": {
      "text/plain": [
       "<AxesSubplot:>"
      ]
     },
     "execution_count": 15,
     "metadata": {},
     "output_type": "execute_result"
    },
    {
     "data": {
      "image/png": "[encoded data removed]",
      "text/plain": [
       "<Figure size 432x288 with 1 Axes>"
      ]
     },
     "metadata": {
      "needs_background": "light"
     },
     "output_type": "display_data"
    }
   ],
   "source": [
    "df['rating'].hist()"
   ]
  },
  {
   "cell_type": "code",
   "execution_count": 16,
   "metadata": {},
   "outputs": [],
   "source": [
    "#Using the in-built z score calculator\n",
    "z_score_rating = scaler.fit_transform(df[['rating']])"
   ]
  },
  {
   "cell_type": "code",
   "execution_count": 17,
   "metadata": {},
   "outputs": [
    {
     "data": {
      "text/plain": [
       "numpy.ndarray"
      ]
     },
     "execution_count": 17,
     "metadata": {},
     "output_type": "execute_result"
    }
   ],
   "source": [
    "type(z_score_rating)"
   ]
  },
  {
   "cell_type": "code",
   "execution_count": 18,
   "metadata": {},
   "outputs": [],
   "source": [
    "z_score_rating_df = pd.DataFrame(z_score_rating, columns=['rating'])"
   ]
  },
  {
   "cell_type": "code",
   "execution_count": 19,
   "metadata": {},
   "outputs": [
    {
     "data": {
      "text/html": [
       "<div>\n",
       "<style scoped>\n",
       "    .dataframe tbody tr th:only-of-type {\n",
       "        vertical-align: middle;\n",
       "    }\n",
       "\n",
       "    .dataframe tbody tr th {\n",
       "        vertical-align: top;\n",
       "    }\n",
       "\n",
       "    .dataframe thead th {\n",
       "        text-align: right;\n",
       "    }\n",
       "</style>\n",
       "<table border=\"1\" class=\"dataframe\">\n",
       "  <thead>\n",
       "    <tr style=\"text-align: right;\">\n",
       "      <th></th>\n",
       "      <th>rating</th>\n",
       "    </tr>\n",
       "  </thead>\n",
       "  <tbody>\n",
       "    <tr>\n",
       "      <th>count</th>\n",
       "      <td>1.582327e+07</td>\n",
       "    </tr>\n",
       "    <tr>\n",
       "      <th>mean</th>\n",
       "      <td>-8.320200e-12</td>\n",
       "    </tr>\n",
       "    <tr>\n",
       "      <th>std</th>\n",
       "      <td>1.000000e+00</td>\n",
       "    </tr>\n",
       "    <tr>\n",
       "      <th>min</th>\n",
       "      <td>-4.410246e+00</td>\n",
       "    </tr>\n",
       "    <tr>\n",
       "      <th>25%</th>\n",
       "      <td>-6.594221e-01</td>\n",
       "    </tr>\n",
       "    <tr>\n",
       "      <th>50%</th>\n",
       "      <td>-3.428471e-02</td>\n",
       "    </tr>\n",
       "    <tr>\n",
       "      <th>75%</th>\n",
       "      <td>5.908526e-01</td>\n",
       "    </tr>\n",
       "    <tr>\n",
       "      <th>max</th>\n",
       "      <td>1.841127e+00</td>\n",
       "    </tr>\n",
       "  </tbody>\n",
       "</table>\n",
       "</div>"
      ],
      "text/plain": [
       "             rating\n",
       "count  1.582327e+07\n",
       "mean  -8.320200e-12\n",
       "std    1.000000e+00\n",
       "min   -4.410246e+00\n",
       "25%   -6.594221e-01\n",
       "50%   -3.428471e-02\n",
       "75%    5.908526e-01\n",
       "max    1.841127e+00"
      ]
     },
     "execution_count": 19,
     "metadata": {},
     "output_type": "execute_result"
    }
   ],
   "source": [
    "#Describe after Data Normalization\n",
    "z_score_rating_df.describe()"
   ]
  },
  {
   "cell_type": "code",
   "execution_count": 20,
   "metadata": {},
   "outputs": [
    {
     "data": {
      "text/plain": [
       "(rating   -8.320200e-12\n",
       " dtype: float64,\n",
       " rating    1.0\n",
       " dtype: float64)"
      ]
     },
     "execution_count": 20,
     "metadata": {},
     "output_type": "execute_result"
    }
   ],
   "source": [
    "z_score_rating_df.mean(), z_score_rating_df.std()"
   ]
  },
  {
   "cell_type": "code",
   "execution_count": 21,
   "metadata": {},
   "outputs": [
    {
     "data": {
      "text/plain": [
       "array([[<AxesSubplot:title={'center':'rating'}>]], dtype=object)"
      ]
     },
     "execution_count": 21,
     "metadata": {},
     "output_type": "execute_result"
    },
    {
     "data": {
      "image/png": "[encoded data removed]",
      "text/plain": [
       "<Figure size 432x288 with 1 Axes>"
      ]
     },
     "metadata": {
      "needs_background": "light"
     },
     "output_type": "display_data"
    }
   ],
   "source": [
    "z_score_rating_df.hist()"
   ]
  },
  {
   "cell_type": "code",
   "execution_count": 22,
   "metadata": {},
   "outputs": [],
   "source": [
    "#Write to csv\n",
    "df.to_csv('Updated-bgg-15m-reviews.csv', index=False)"
   ]
  },
  {
   "cell_type": "code",
   "execution_count": 23,
   "metadata": {},
   "outputs": [
    {
     "data": {
      "text/html": [
       "<div>\n",
       "<style scoped>\n",
       "    .dataframe tbody tr th:only-of-type {\n",
       "        vertical-align: middle;\n",
       "    }\n",
       "\n",
       "    .dataframe tbody tr th {\n",
       "        vertical-align: top;\n",
       "    }\n",
       "\n",
       "    .dataframe thead th {\n",
       "        text-align: right;\n",
       "    }\n",
       "</style>\n",
       "<table border=\"1\" class=\"dataframe\">\n",
       "  <thead>\n",
       "    <tr style=\"text-align: right;\">\n",
       "      <th></th>\n",
       "      <th>id</th>\n",
       "      <th>primary</th>\n",
       "      <th>description</th>\n",
       "      <th>yearpublished</th>\n",
       "      <th>minplayers</th>\n",
       "      <th>maxplayers</th>\n",
       "      <th>playingtime</th>\n",
       "      <th>minplaytime</th>\n",
       "      <th>maxplaytime</th>\n",
       "      <th>minage</th>\n",
       "      <th>boardgamecategory</th>\n",
       "      <th>boardgamemechanic</th>\n",
       "      <th>boardgamefamily</th>\n",
       "      <th>boardgamedesigner</th>\n",
       "      <th>boardgameartist</th>\n",
       "      <th>boardgamepublisher</th>\n",
       "      <th>usersrated</th>\n",
       "      <th>average</th>\n",
       "      <th>bayesaverage</th>\n",
       "      <th>Board Game Rank</th>\n",
       "    </tr>\n",
       "  </thead>\n",
       "  <tbody>\n",
       "    <tr>\n",
       "      <th>0</th>\n",
       "      <td>30549</td>\n",
       "      <td>Pandemic</td>\n",
       "      <td>In Pandemic, several virulent diseases have br...</td>\n",
       "      <td>2008</td>\n",
       "      <td>2</td>\n",
       "      <td>4</td>\n",
       "      <td>45</td>\n",
       "      <td>45</td>\n",
       "      <td>45</td>\n",
       "      <td>8</td>\n",
       "      <td>['Medical']</td>\n",
       "      <td>['Action Points', 'Cooperative Game', 'Hand Ma...</td>\n",
       "      <td>['Game: Pandemic', 'Medical: Diseases', 'Occup...</td>\n",
       "      <td>['Matt Leacock']</td>\n",
       "      <td>['Josh Cappel', 'Christian Hanisch', 'Régis Mo...</td>\n",
       "      <td>['Z-Man Games, Inc.', '(Unknown)', 'Albi', 'As...</td>\n",
       "      <td>96241</td>\n",
       "      <td>7.61567</td>\n",
       "      <td>7.51795</td>\n",
       "      <td>91</td>\n",
       "    </tr>\n",
       "    <tr>\n",
       "      <th>1</th>\n",
       "      <td>822</td>\n",
       "      <td>Carcassonne</td>\n",
       "      <td>Carcassonne is a tile-placement game in which ...</td>\n",
       "      <td>2000</td>\n",
       "      <td>2</td>\n",
       "      <td>5</td>\n",
       "      <td>45</td>\n",
       "      <td>30</td>\n",
       "      <td>45</td>\n",
       "      <td>7</td>\n",
       "      <td>['City Building', 'Medieval', 'Territory Build...</td>\n",
       "      <td>['Area Majority / Influence', 'Map Addition', ...</td>\n",
       "      <td>['Components: Black meeples', 'Components: Blu...</td>\n",
       "      <td>['Klaus-Jürgen Wrede']</td>\n",
       "      <td>['Doris Matthäus', 'Anne Pätzke', 'Chris Quill...</td>\n",
       "      <td>['Hans im Glück', '999 Games', 'Albi', 'Bard C...</td>\n",
       "      <td>96228</td>\n",
       "      <td>7.41884</td>\n",
       "      <td>7.31105</td>\n",
       "      <td>173</td>\n",
       "    </tr>\n",
       "    <tr>\n",
       "      <th>2</th>\n",
       "      <td>13</td>\n",
       "      <td>Catan</td>\n",
       "      <td>In Catan (formerly The Settlers of Catan), pla...</td>\n",
       "      <td>1995</td>\n",
       "      <td>3</td>\n",
       "      <td>4</td>\n",
       "      <td>120</td>\n",
       "      <td>60</td>\n",
       "      <td>120</td>\n",
       "      <td>10</td>\n",
       "      <td>['Economic', 'Negotiation']</td>\n",
       "      <td>['Dice Rolling', 'Hexagon Grid', 'Income', 'Mo...</td>\n",
       "      <td>['Game: Catan', 'Promotional: Promo Board Games']</td>\n",
       "      <td>['Klaus Teuber']</td>\n",
       "      <td>['Volkan Baga', 'Tanja Donner', 'Pete Fenlon',...</td>\n",
       "      <td>['KOSMOS', '999 Games', 'Albi', 'Astrel Games'...</td>\n",
       "      <td>96213</td>\n",
       "      <td>7.16265</td>\n",
       "      <td>7.00045</td>\n",
       "      <td>381</td>\n",
       "    </tr>\n",
       "    <tr>\n",
       "      <th>3</th>\n",
       "      <td>68448</td>\n",
       "      <td>7 Wonders</td>\n",
       "      <td>You are the leader of one of the 7 great citie...</td>\n",
       "      <td>2010</td>\n",
       "      <td>2</td>\n",
       "      <td>7</td>\n",
       "      <td>30</td>\n",
       "      <td>30</td>\n",
       "      <td>30</td>\n",
       "      <td>10</td>\n",
       "      <td>['Ancient', 'Card Game', 'City Building', 'Civ...</td>\n",
       "      <td>['Card Drafting', 'Drafting', 'Hand Management...</td>\n",
       "      <td>['Game: 7 Wonders', 'Mechanic: Tableau Building']</td>\n",
       "      <td>['Antoine Bauza']</td>\n",
       "      <td>['Antoine Bauza', 'Miguel Coimbra']</td>\n",
       "      <td>['Repos Production', 'ADC Blackfire Entertainm...</td>\n",
       "      <td>79873</td>\n",
       "      <td>7.76049</td>\n",
       "      <td>7.66214</td>\n",
       "      <td>51</td>\n",
       "    </tr>\n",
       "  </tbody>\n",
       "</table>\n",
       "</div>"
      ],
      "text/plain": [
       "      id      primary                                        description  \\\n",
       "0  30549     Pandemic  In Pandemic, several virulent diseases have br...   \n",
       "1    822  Carcassonne  Carcassonne is a tile-placement game in which ...   \n",
       "2     13        Catan  In Catan (formerly The Settlers of Catan), pla...   \n",
       "3  68448    7 Wonders  You are the leader of one of the 7 great citie...   \n",
       "\n",
       "   yearpublished  minplayers  maxplayers  playingtime  minplaytime  \\\n",
       "0           2008           2           4           45           45   \n",
       "1           2000           2           5           45           30   \n",
       "2           1995           3           4          120           60   \n",
       "3           2010           2           7           30           30   \n",
       "\n",
       "   maxplaytime  minage                                  boardgamecategory  \\\n",
       "0           45       8                                        ['Medical']   \n",
       "1           45       7  ['City Building', 'Medieval', 'Territory Build...   \n",
       "2          120      10                        ['Economic', 'Negotiation']   \n",
       "3           30      10  ['Ancient', 'Card Game', 'City Building', 'Civ...   \n",
       "\n",
       "                                   boardgamemechanic  \\\n",
       "0  ['Action Points', 'Cooperative Game', 'Hand Ma...   \n",
       "1  ['Area Majority / Influence', 'Map Addition', ...   \n",
       "2  ['Dice Rolling', 'Hexagon Grid', 'Income', 'Mo...   \n",
       "3  ['Card Drafting', 'Drafting', 'Hand Management...   \n",
       "\n",
       "                                     boardgamefamily       boardgamedesigner  \\\n",
       "0  ['Game: Pandemic', 'Medical: Diseases', 'Occup...        ['Matt Leacock']   \n",
       "1  ['Components: Black meeples', 'Components: Blu...  ['Klaus-Jürgen Wrede']   \n",
       "2  ['Game: Catan', 'Promotional: Promo Board Games']        ['Klaus Teuber']   \n",
       "3  ['Game: 7 Wonders', 'Mechanic: Tableau Building']       ['Antoine Bauza']   \n",
       "\n",
       "                                     boardgameartist  \\\n",
       "0  ['Josh Cappel', 'Christian Hanisch', 'Régis Mo...   \n",
       "1  ['Doris Matthäus', 'Anne Pätzke', 'Chris Quill...   \n",
       "2  ['Volkan Baga', 'Tanja Donner', 'Pete Fenlon',...   \n",
       "3                ['Antoine Bauza', 'Miguel Coimbra']   \n",
       "\n",
       "                                  boardgamepublisher  usersrated  average  \\\n",
       "0  ['Z-Man Games, Inc.', '(Unknown)', 'Albi', 'As...       96241  7.61567   \n",
       "1  ['Hans im Glück', '999 Games', 'Albi', 'Bard C...       96228  7.41884   \n",
       "2  ['KOSMOS', '999 Games', 'Albi', 'Astrel Games'...       96213  7.16265   \n",
       "3  ['Repos Production', 'ADC Blackfire Entertainm...       79873  7.76049   \n",
       "\n",
       "   bayesaverage  Board Game Rank  \n",
       "0       7.51795               91  \n",
       "1       7.31105              173  \n",
       "2       7.00045              381  \n",
       "3       7.66214               51  "
      ]
     },
     "execution_count": 23,
     "metadata": {},
     "output_type": "execute_result"
    }
   ],
   "source": [
    "#Reading the 2nd Dataset\n",
    "missing_values = [\"n/a\", \"na\", \"--\", \" \"]\n",
    "df = pd.read_csv('modified-games_detailed_info.csv', na_values = missing_values)\n",
    "df.head(4)"
   ]
  },
  {
   "cell_type": "code",
   "execution_count": 24,
   "metadata": {},
   "outputs": [
    {
     "name": "stdout",
     "output_type": "stream",
     "text": [
      "<class 'pandas.core.frame.DataFrame'>\n",
      "RangeIndex: 19230 entries, 0 to 19229\n",
      "Data columns (total 20 columns):\n",
      " #   Column              Non-Null Count  Dtype  \n",
      "---  ------              --------------  -----  \n",
      " 0   id                  19230 non-null  int64  \n",
      " 1   primary             19230 non-null  object \n",
      " 2   description         19229 non-null  object \n",
      " 3   yearpublished       19230 non-null  int64  \n",
      " 4   minplayers          19230 non-null  int64  \n",
      " 5   maxplayers          19230 non-null  int64  \n",
      " 6   playingtime         19230 non-null  int64  \n",
      " 7   minplaytime         19230 non-null  int64  \n",
      " 8   maxplaytime         19230 non-null  int64  \n",
      " 9   minage              19230 non-null  int64  \n",
      " 10  boardgamecategory   19009 non-null  object \n",
      " 11  boardgamemechanic   17681 non-null  object \n",
      " 12  boardgamefamily     14743 non-null  object \n",
      " 13  boardgamedesigner   18800 non-null  object \n",
      " 14  boardgameartist     13833 non-null  object \n",
      " 15  boardgamepublisher  19230 non-null  object \n",
      " 16  usersrated          19230 non-null  int64  \n",
      " 17  average             19230 non-null  float64\n",
      " 18  bayesaverage        19230 non-null  float64\n",
      " 19  Board Game Rank     19230 non-null  int64  \n",
      "dtypes: float64(2), int64(10), object(8)\n",
      "memory usage: 2.9+ MB\n"
     ]
    }
   ],
   "source": [
    "df.info()"
   ]
  },
  {
   "cell_type": "code",
   "execution_count": 25,
   "metadata": {},
   "outputs": [
    {
     "data": {
      "text/plain": [
       "id                       0\n",
       "primary                  0\n",
       "description              1\n",
       "yearpublished            0\n",
       "minplayers               0\n",
       "maxplayers               0\n",
       "playingtime              0\n",
       "minplaytime              0\n",
       "maxplaytime              0\n",
       "minage                   0\n",
       "boardgamecategory      221\n",
       "boardgamemechanic     1549\n",
       "boardgamefamily       4487\n",
       "boardgamedesigner      430\n",
       "boardgameartist       5397\n",
       "boardgamepublisher       0\n",
       "usersrated               0\n",
       "average                  0\n",
       "bayesaverage             0\n",
       "Board Game Rank          0\n",
       "dtype: int64"
      ]
     },
     "execution_count": 25,
     "metadata": {},
     "output_type": "execute_result"
    }
   ],
   "source": [
    "#Sum of null values\n",
    "df.isnull().sum()"
   ]
  },
  {
   "cell_type": "code",
   "execution_count": 26,
   "metadata": {},
   "outputs": [],
   "source": [
    "#Replacing 0 values by None Values\n",
    "df['yearpublished'] = df['yearpublished'].map(lambda x:x if x !=0 else None)\n",
    "df['minplayers'] = df['minplayers'].map(lambda x:x if x !=0 else None)\n",
    "df['maxplayers'] = df['maxplayers'].map(lambda x:x if x !=0 else None)\n",
    "df['playingtime'] = df['playingtime'].map(lambda x:x if x !=0 else None)\n",
    "df['minplaytime'] = df['minplaytime'].map(lambda x:x if x !=0 else None)\n",
    "df['maxplaytime'] = df['maxplaytime'].map(lambda x:x if x !=0 else None)\n",
    "df['minage'] = df['minage'].map(lambda x:x if x !=0 else None)"
   ]
  },
  {
   "cell_type": "code",
   "execution_count": 27,
   "metadata": {},
   "outputs": [
    {
     "data": {
      "text/plain": [
       "id                       0\n",
       "primary                  0\n",
       "description              1\n",
       "yearpublished          170\n",
       "minplayers              51\n",
       "maxplayers             167\n",
       "playingtime            625\n",
       "minplaytime            531\n",
       "maxplaytime            625\n",
       "minage                1173\n",
       "boardgamecategory      221\n",
       "boardgamemechanic     1549\n",
       "boardgamefamily       4487\n",
       "boardgamedesigner      430\n",
       "boardgameartist       5397\n",
       "boardgamepublisher       0\n",
       "usersrated               0\n",
       "average                  0\n",
       "bayesaverage             0\n",
       "Board Game Rank          0\n",
       "dtype: int64"
      ]
     },
     "execution_count": 27,
     "metadata": {},
     "output_type": "execute_result"
    }
   ],
   "source": [
    "#Actual number of Null Values in the Dataset\n",
    "df.isnull().sum()"
   ]
  },
  {
   "cell_type": "code",
   "execution_count": 28,
   "metadata": {},
   "outputs": [],
   "source": [
    "#Imputing the mean values in place of null values\n",
    "df['yearpublished'].fillna(df['yearpublished'].mean(), inplace=True)\n",
    "df['minplayers'].fillna(df['minplayers'].mean(), inplace=True)\n",
    "df['maxplayers'].fillna(df['maxplayers'].mean(), inplace=True)\n",
    "df['playingtime'].fillna(df['playingtime'].mean(), inplace=True)\n",
    "df['minplaytime'].fillna(df['minplaytime'].mean(), inplace=True)\n",
    "df['maxplaytime'].fillna(df['maxplaytime'].mean(), inplace=True)\n",
    "df['minage'].fillna(df['minage'].mean(), inplace=True)"
   ]
  },
  {
   "cell_type": "code",
   "execution_count": 29,
   "metadata": {},
   "outputs": [
    {
     "data": {
      "text/plain": [
       "id                       0\n",
       "primary                  0\n",
       "description              1\n",
       "yearpublished            0\n",
       "minplayers               0\n",
       "maxplayers               0\n",
       "playingtime              0\n",
       "minplaytime              0\n",
       "maxplaytime              0\n",
       "minage                   0\n",
       "boardgamecategory      221\n",
       "boardgamemechanic     1549\n",
       "boardgamefamily       4487\n",
       "boardgamedesigner      430\n",
       "boardgameartist       5397\n",
       "boardgamepublisher       0\n",
       "usersrated               0\n",
       "average                  0\n",
       "bayesaverage             0\n",
       "Board Game Rank          0\n",
       "dtype: int64"
      ]
     },
     "execution_count": 29,
     "metadata": {},
     "output_type": "execute_result"
    }
   ],
   "source": [
    "df.isnull().sum()"
   ]
  },
  {
   "cell_type": "code",
   "execution_count": 30,
   "metadata": {},
   "outputs": [],
   "source": [
    "#Dropping columns to find outliers and normalize data\n",
    "df = df.drop(columns=['primary', 'description','boardgamecategory','boardgamemechanic', 'boardgamefamily', 'boardgamedesigner', 'boardgameartist', 'boardgamepublisher'] )"
   ]
  },
  {
   "cell_type": "code",
   "execution_count": 31,
   "metadata": {},
   "outputs": [
    {
     "name": "stdout",
     "output_type": "stream",
     "text": [
      "id                 172062.250000\n",
      "yearpublished          15.000000\n",
      "minplayers              0.000000\n",
      "maxplayers              2.000000\n",
      "playingtime            60.000000\n",
      "minplaytime            40.000000\n",
      "maxplaytime            60.000000\n",
      "minage                  4.000000\n",
      "usersrated            325.750000\n",
      "average                 1.203658\n",
      "bayesaverage            0.177217\n",
      "Board Game Rank      9677.500000\n",
      "dtype: float64\n"
     ]
    }
   ],
   "source": [
    "#Finding Outliers in the Rating using IQR \n",
    "Q1 = df.quantile(0.25)\n",
    "Q3 = df.quantile(0.75)\n",
    "IQR = Q3 - Q1\n",
    "print(IQR)"
   ]
  },
  {
   "cell_type": "code",
   "execution_count": 32,
   "metadata": {},
   "outputs": [
    {
     "name": "stdout",
     "output_type": "stream",
     "text": [
      "          id  yearpublished  minplayers  maxplayers  playingtime  minplaytime  \\\n",
      "0      False          False       False       False        False        False   \n",
      "1      False          False       False       False        False        False   \n",
      "2      False          False        True       False        False        False   \n",
      "3      False          False       False       False        False        False   \n",
      "4      False          False       False       False        False        False   \n",
      "...      ...            ...         ...         ...          ...          ...   \n",
      "19225  False          False       False       False        False        False   \n",
      "19226  False          False       False       False        False        False   \n",
      "19227  False          False        True       False        False        False   \n",
      "19228  False          False       False       False        False        False   \n",
      "19229  False          False       False       False        False        False   \n",
      "\n",
      "       maxplaytime  minage  usersrated  average  bayesaverage  Board Game Rank  \n",
      "0            False   False        True    False          True            False  \n",
      "1            False   False        True    False          True            False  \n",
      "2            False   False        True    False          True            False  \n",
      "3            False   False        True    False          True            False  \n",
      "4            False   False        True    False          True            False  \n",
      "...            ...     ...         ...      ...           ...              ...  \n",
      "19225        False   False       False    False         False            False  \n",
      "19226        False   False       False    False         False            False  \n",
      "19227        False   False       False    False         False            False  \n",
      "19228        False   False       False    False         False            False  \n",
      "19229        False   False       False     True         False            False  \n",
      "\n",
      "[19230 rows x 12 columns]\n"
     ]
    }
   ],
   "source": [
    "#Calculating IQR\n",
    "print((df < (Q1-1.5*IQR)) | (df > (Q3+1.5*IQR)))"
   ]
  },
  {
   "cell_type": "code",
   "execution_count": 33,
   "metadata": {},
   "outputs": [],
   "source": [
    "#We decided to keep all the outlier values as all the tuples will be used in creating the model"
   ]
  },
  {
   "cell_type": "code",
   "execution_count": 34,
   "metadata": {},
   "outputs": [
    {
     "data": {
      "text/html": [
       "<div>\n",
       "<style scoped>\n",
       "    .dataframe tbody tr th:only-of-type {\n",
       "        vertical-align: middle;\n",
       "    }\n",
       "\n",
       "    .dataframe tbody tr th {\n",
       "        vertical-align: top;\n",
       "    }\n",
       "\n",
       "    .dataframe thead th {\n",
       "        text-align: right;\n",
       "    }\n",
       "</style>\n",
       "<table border=\"1\" class=\"dataframe\">\n",
       "  <thead>\n",
       "    <tr style=\"text-align: right;\">\n",
       "      <th></th>\n",
       "      <th>id</th>\n",
       "      <th>yearpublished</th>\n",
       "      <th>minplayers</th>\n",
       "      <th>maxplayers</th>\n",
       "      <th>playingtime</th>\n",
       "      <th>minplaytime</th>\n",
       "      <th>maxplaytime</th>\n",
       "      <th>minage</th>\n",
       "      <th>usersrated</th>\n",
       "      <th>average</th>\n",
       "      <th>bayesaverage</th>\n",
       "      <th>Board Game Rank</th>\n",
       "    </tr>\n",
       "  </thead>\n",
       "  <tbody>\n",
       "    <tr>\n",
       "      <th>count</th>\n",
       "      <td>19230.000000</td>\n",
       "      <td>19230.000000</td>\n",
       "      <td>19230.000000</td>\n",
       "      <td>19230.000000</td>\n",
       "      <td>19230.000000</td>\n",
       "      <td>19230.000000</td>\n",
       "      <td>19230.000000</td>\n",
       "      <td>19230.000000</td>\n",
       "      <td>19230.000000</td>\n",
       "      <td>19230.000000</td>\n",
       "      <td>19230.000000</td>\n",
       "      <td>19230.000000</td>\n",
       "    </tr>\n",
       "    <tr>\n",
       "      <th>mean</th>\n",
       "      <td>101482.306032</td>\n",
       "      <td>2001.779958</td>\n",
       "      <td>2.034308</td>\n",
       "      <td>5.667471</td>\n",
       "      <td>99.839721</td>\n",
       "      <td>68.514840</td>\n",
       "      <td>99.839721</td>\n",
       "      <td>10.226837</td>\n",
       "      <td>822.717161</td>\n",
       "      <td>6.392653</td>\n",
       "      <td>5.689886</td>\n",
       "      <td>9646.834997</td>\n",
       "    </tr>\n",
       "    <tr>\n",
       "      <th>std</th>\n",
       "      <td>94272.241105</td>\n",
       "      <td>100.966970</td>\n",
       "      <td>0.677699</td>\n",
       "      <td>15.363055</td>\n",
       "      <td>1025.689285</td>\n",
       "      <td>473.452068</td>\n",
       "      <td>1025.689285</td>\n",
       "      <td>2.682643</td>\n",
       "      <td>3379.271776</td>\n",
       "      <td>0.929939</td>\n",
       "      <td>0.370425</td>\n",
       "      <td>5588.107451</td>\n",
       "    </tr>\n",
       "    <tr>\n",
       "      <th>min</th>\n",
       "      <td>1.000000</td>\n",
       "      <td>-3500.000000</td>\n",
       "      <td>1.000000</td>\n",
       "      <td>1.000000</td>\n",
       "      <td>1.000000</td>\n",
       "      <td>1.000000</td>\n",
       "      <td>1.000000</td>\n",
       "      <td>1.000000</td>\n",
       "      <td>30.000000</td>\n",
       "      <td>1.048440</td>\n",
       "      <td>3.535930</td>\n",
       "      <td>1.000000</td>\n",
       "    </tr>\n",
       "    <tr>\n",
       "      <th>25%</th>\n",
       "      <td>10213.250000</td>\n",
       "      <td>2001.000000</td>\n",
       "      <td>2.000000</td>\n",
       "      <td>4.000000</td>\n",
       "      <td>30.000000</td>\n",
       "      <td>20.000000</td>\n",
       "      <td>30.000000</td>\n",
       "      <td>8.000000</td>\n",
       "      <td>56.000000</td>\n",
       "      <td>5.806900</td>\n",
       "      <td>5.510853</td>\n",
       "      <td>4808.250000</td>\n",
       "    </tr>\n",
       "    <tr>\n",
       "      <th>50%</th>\n",
       "      <td>72758.500000</td>\n",
       "      <td>2010.000000</td>\n",
       "      <td>2.000000</td>\n",
       "      <td>4.000000</td>\n",
       "      <td>45.000000</td>\n",
       "      <td>40.000000</td>\n",
       "      <td>45.000000</td>\n",
       "      <td>10.000000</td>\n",
       "      <td>120.000000</td>\n",
       "      <td>6.420350</td>\n",
       "      <td>5.550310</td>\n",
       "      <td>9618.500000</td>\n",
       "    </tr>\n",
       "    <tr>\n",
       "      <th>75%</th>\n",
       "      <td>182275.500000</td>\n",
       "      <td>2016.000000</td>\n",
       "      <td>2.000000</td>\n",
       "      <td>6.000000</td>\n",
       "      <td>90.000000</td>\n",
       "      <td>60.000000</td>\n",
       "      <td>90.000000</td>\n",
       "      <td>12.000000</td>\n",
       "      <td>381.750000</td>\n",
       "      <td>7.010558</td>\n",
       "      <td>5.688070</td>\n",
       "      <td>14485.750000</td>\n",
       "    </tr>\n",
       "    <tr>\n",
       "      <th>max</th>\n",
       "      <td>314040.000000</td>\n",
       "      <td>2021.000000</td>\n",
       "      <td>10.000000</td>\n",
       "      <td>999.000000</td>\n",
       "      <td>120000.000000</td>\n",
       "      <td>60000.000000</td>\n",
       "      <td>120000.000000</td>\n",
       "      <td>25.000000</td>\n",
       "      <td>96241.000000</td>\n",
       "      <td>9.687500</td>\n",
       "      <td>8.568580</td>\n",
       "      <td>19345.000000</td>\n",
       "    </tr>\n",
       "  </tbody>\n",
       "</table>\n",
       "</div>"
      ],
      "text/plain": [
       "                  id  yearpublished    minplayers    maxplayers  \\\n",
       "count   19230.000000   19230.000000  19230.000000  19230.000000   \n",
       "mean   101482.306032    2001.779958      2.034308      5.667471   \n",
       "std     94272.241105     100.966970      0.677699     15.363055   \n",
       "min         1.000000   -3500.000000      1.000000      1.000000   \n",
       "25%     10213.250000    2001.000000      2.000000      4.000000   \n",
       "50%     72758.500000    2010.000000      2.000000      4.000000   \n",
       "75%    182275.500000    2016.000000      2.000000      6.000000   \n",
       "max    314040.000000    2021.000000     10.000000    999.000000   \n",
       "\n",
       "         playingtime   minplaytime    maxplaytime        minage    usersrated  \\\n",
       "count   19230.000000  19230.000000   19230.000000  19230.000000  19230.000000   \n",
       "mean       99.839721     68.514840      99.839721     10.226837    822.717161   \n",
       "std      1025.689285    473.452068    1025.689285      2.682643   3379.271776   \n",
       "min         1.000000      1.000000       1.000000      1.000000     30.000000   \n",
       "25%        30.000000     20.000000      30.000000      8.000000     56.000000   \n",
       "50%        45.000000     40.000000      45.000000     10.000000    120.000000   \n",
       "75%        90.000000     60.000000      90.000000     12.000000    381.750000   \n",
       "max    120000.000000  60000.000000  120000.000000     25.000000  96241.000000   \n",
       "\n",
       "            average  bayesaverage  Board Game Rank  \n",
       "count  19230.000000  19230.000000     19230.000000  \n",
       "mean       6.392653      5.689886      9646.834997  \n",
       "std        0.929939      0.370425      5588.107451  \n",
       "min        1.048440      3.535930         1.000000  \n",
       "25%        5.806900      5.510853      4808.250000  \n",
       "50%        6.420350      5.550310      9618.500000  \n",
       "75%        7.010558      5.688070     14485.750000  \n",
       "max        9.687500      8.568580     19345.000000  "
      ]
     },
     "execution_count": 34,
     "metadata": {},
     "output_type": "execute_result"
    }
   ],
   "source": [
    "#Without normalizing the dataset\n",
    "df.describe()"
   ]
  },
  {
   "cell_type": "code",
   "execution_count": 35,
   "metadata": {},
   "outputs": [
    {
     "data": {
      "text/plain": [
       "array([[<AxesSubplot:title={'center':'id'}>,\n",
       "        <AxesSubplot:title={'center':'yearpublished'}>,\n",
       "        <AxesSubplot:title={'center':'minplayers'}>],\n",
       "       [<AxesSubplot:title={'center':'maxplayers'}>,\n",
       "        <AxesSubplot:title={'center':'playingtime'}>,\n",
       "        <AxesSubplot:title={'center':'minplaytime'}>],\n",
       "       [<AxesSubplot:title={'center':'maxplaytime'}>,\n",
       "        <AxesSubplot:title={'center':'minage'}>,\n",
       "        <AxesSubplot:title={'center':'usersrated'}>],\n",
       "       [<AxesSubplot:title={'center':'average'}>,\n",
       "        <AxesSubplot:title={'center':'bayesaverage'}>,\n",
       "        <AxesSubplot:title={'center':'Board Game Rank'}>]], dtype=object)"
      ]
     },
     "execution_count": 35,
     "metadata": {},
     "output_type": "execute_result"
    },
    {
     "data": {
      "image/png": "[encoded data removed]",
      "text/plain": [
       "<Figure size 720x720 with 12 Axes>"
      ]
     },
     "metadata": {
      "needs_background": "light"
     },
     "output_type": "display_data"
    }
   ],
   "source": [
    "#histogram before normalization\n",
    "df.hist(figsize=(10,10))"
   ]
  },
  {
   "cell_type": "code",
   "execution_count": 36,
   "metadata": {},
   "outputs": [],
   "source": [
    "column_names = ['id', 'yearpublished', 'minplayers', 'maxplayers', 'playingtime', 'minplaytime', 'maxplaytime', 'minage', 'userrated', 'average', 'bayesaverage', 'Board Game Rank']"
   ]
  },
  {
   "cell_type": "code",
   "execution_count": 37,
   "metadata": {},
   "outputs": [
    {
     "data": {
      "text/html": [
       "<div>\n",
       "<style scoped>\n",
       "    .dataframe tbody tr th:only-of-type {\n",
       "        vertical-align: middle;\n",
       "    }\n",
       "\n",
       "    .dataframe tbody tr th {\n",
       "        vertical-align: top;\n",
       "    }\n",
       "\n",
       "    .dataframe thead th {\n",
       "        text-align: right;\n",
       "    }\n",
       "</style>\n",
       "<table border=\"1\" class=\"dataframe\">\n",
       "  <thead>\n",
       "    <tr style=\"text-align: right;\">\n",
       "      <th></th>\n",
       "      <th>id</th>\n",
       "      <th>yearpublished</th>\n",
       "      <th>minplayers</th>\n",
       "      <th>maxplayers</th>\n",
       "      <th>playingtime</th>\n",
       "      <th>minplaytime</th>\n",
       "      <th>maxplaytime</th>\n",
       "      <th>minage</th>\n",
       "      <th>usersrated</th>\n",
       "      <th>average</th>\n",
       "      <th>bayesaverage</th>\n",
       "      <th>Board Game Rank</th>\n",
       "    </tr>\n",
       "  </thead>\n",
       "  <tbody>\n",
       "    <tr>\n",
       "      <th>0</th>\n",
       "      <td>30549</td>\n",
       "      <td>2008.0</td>\n",
       "      <td>2.0</td>\n",
       "      <td>4.0</td>\n",
       "      <td>45.000000</td>\n",
       "      <td>45.00000</td>\n",
       "      <td>45.000000</td>\n",
       "      <td>8.0</td>\n",
       "      <td>96241</td>\n",
       "      <td>7.61567</td>\n",
       "      <td>7.51795</td>\n",
       "      <td>91</td>\n",
       "    </tr>\n",
       "    <tr>\n",
       "      <th>1</th>\n",
       "      <td>822</td>\n",
       "      <td>2000.0</td>\n",
       "      <td>2.0</td>\n",
       "      <td>5.0</td>\n",
       "      <td>45.000000</td>\n",
       "      <td>30.00000</td>\n",
       "      <td>45.000000</td>\n",
       "      <td>7.0</td>\n",
       "      <td>96228</td>\n",
       "      <td>7.41884</td>\n",
       "      <td>7.31105</td>\n",
       "      <td>173</td>\n",
       "    </tr>\n",
       "    <tr>\n",
       "      <th>2</th>\n",
       "      <td>13</td>\n",
       "      <td>1995.0</td>\n",
       "      <td>3.0</td>\n",
       "      <td>4.0</td>\n",
       "      <td>120.000000</td>\n",
       "      <td>60.00000</td>\n",
       "      <td>120.000000</td>\n",
       "      <td>10.0</td>\n",
       "      <td>96213</td>\n",
       "      <td>7.16265</td>\n",
       "      <td>7.00045</td>\n",
       "      <td>381</td>\n",
       "    </tr>\n",
       "    <tr>\n",
       "      <th>3</th>\n",
       "      <td>68448</td>\n",
       "      <td>2010.0</td>\n",
       "      <td>2.0</td>\n",
       "      <td>7.0</td>\n",
       "      <td>30.000000</td>\n",
       "      <td>30.00000</td>\n",
       "      <td>30.000000</td>\n",
       "      <td>10.0</td>\n",
       "      <td>79873</td>\n",
       "      <td>7.76049</td>\n",
       "      <td>7.66214</td>\n",
       "      <td>51</td>\n",
       "    </tr>\n",
       "    <tr>\n",
       "      <th>4</th>\n",
       "      <td>36218</td>\n",
       "      <td>2008.0</td>\n",
       "      <td>2.0</td>\n",
       "      <td>4.0</td>\n",
       "      <td>30.000000</td>\n",
       "      <td>30.00000</td>\n",
       "      <td>30.000000</td>\n",
       "      <td>13.0</td>\n",
       "      <td>74959</td>\n",
       "      <td>7.62671</td>\n",
       "      <td>7.52038</td>\n",
       "      <td>89</td>\n",
       "    </tr>\n",
       "    <tr>\n",
       "      <th>...</th>\n",
       "      <td>...</td>\n",
       "      <td>...</td>\n",
       "      <td>...</td>\n",
       "      <td>...</td>\n",
       "      <td>...</td>\n",
       "      <td>...</td>\n",
       "      <td>...</td>\n",
       "      <td>...</td>\n",
       "      <td>...</td>\n",
       "      <td>...</td>\n",
       "      <td>...</td>\n",
       "      <td>...</td>\n",
       "    </tr>\n",
       "    <tr>\n",
       "      <th>19225</th>\n",
       "      <td>246345</td>\n",
       "      <td>2018.0</td>\n",
       "      <td>2.0</td>\n",
       "      <td>4.0</td>\n",
       "      <td>99.839721</td>\n",
       "      <td>68.51484</td>\n",
       "      <td>99.839721</td>\n",
       "      <td>7.0</td>\n",
       "      <td>30</td>\n",
       "      <td>5.08333</td>\n",
       "      <td>5.48989</td>\n",
       "      <td>16940</td>\n",
       "    </tr>\n",
       "    <tr>\n",
       "      <th>19226</th>\n",
       "      <td>195623</td>\n",
       "      <td>2016.0</td>\n",
       "      <td>2.0</td>\n",
       "      <td>5.0</td>\n",
       "      <td>30.000000</td>\n",
       "      <td>15.00000</td>\n",
       "      <td>30.000000</td>\n",
       "      <td>10.0</td>\n",
       "      <td>30</td>\n",
       "      <td>6.71667</td>\n",
       "      <td>5.51472</td>\n",
       "      <td>13942</td>\n",
       "    </tr>\n",
       "    <tr>\n",
       "      <th>19227</th>\n",
       "      <td>235943</td>\n",
       "      <td>2017.0</td>\n",
       "      <td>3.0</td>\n",
       "      <td>8.0</td>\n",
       "      <td>20.000000</td>\n",
       "      <td>20.00000</td>\n",
       "      <td>20.000000</td>\n",
       "      <td>8.0</td>\n",
       "      <td>30</td>\n",
       "      <td>5.16667</td>\n",
       "      <td>5.49304</td>\n",
       "      <td>16652</td>\n",
       "    </tr>\n",
       "    <tr>\n",
       "      <th>19228</th>\n",
       "      <td>284862</td>\n",
       "      <td>2019.0</td>\n",
       "      <td>2.0</td>\n",
       "      <td>2.0</td>\n",
       "      <td>25.000000</td>\n",
       "      <td>15.00000</td>\n",
       "      <td>25.000000</td>\n",
       "      <td>8.0</td>\n",
       "      <td>30</td>\n",
       "      <td>6.20333</td>\n",
       "      <td>5.51469</td>\n",
       "      <td>13944</td>\n",
       "    </tr>\n",
       "    <tr>\n",
       "      <th>19229</th>\n",
       "      <td>281515</td>\n",
       "      <td>2020.0</td>\n",
       "      <td>2.0</td>\n",
       "      <td>4.0</td>\n",
       "      <td>90.000000</td>\n",
       "      <td>60.00000</td>\n",
       "      <td>90.000000</td>\n",
       "      <td>12.0</td>\n",
       "      <td>30</td>\n",
       "      <td>9.13333</td>\n",
       "      <td>5.52186</td>\n",
       "      <td>12884</td>\n",
       "    </tr>\n",
       "  </tbody>\n",
       "</table>\n",
       "<p>19230 rows × 12 columns</p>\n",
       "</div>"
      ],
      "text/plain": [
       "           id  yearpublished  minplayers  maxplayers  playingtime  \\\n",
       "0       30549         2008.0         2.0         4.0    45.000000   \n",
       "1         822         2000.0         2.0         5.0    45.000000   \n",
       "2          13         1995.0         3.0         4.0   120.000000   \n",
       "3       68448         2010.0         2.0         7.0    30.000000   \n",
       "4       36218         2008.0         2.0         4.0    30.000000   \n",
       "...       ...            ...         ...         ...          ...   \n",
       "19225  246345         2018.0         2.0         4.0    99.839721   \n",
       "19226  195623         2016.0         2.0         5.0    30.000000   \n",
       "19227  235943         2017.0         3.0         8.0    20.000000   \n",
       "19228  284862         2019.0         2.0         2.0    25.000000   \n",
       "19229  281515         2020.0         2.0         4.0    90.000000   \n",
       "\n",
       "       minplaytime  maxplaytime  minage  usersrated  average  bayesaverage  \\\n",
       "0         45.00000    45.000000     8.0       96241  7.61567       7.51795   \n",
       "1         30.00000    45.000000     7.0       96228  7.41884       7.31105   \n",
       "2         60.00000   120.000000    10.0       96213  7.16265       7.00045   \n",
       "3         30.00000    30.000000    10.0       79873  7.76049       7.66214   \n",
       "4         30.00000    30.000000    13.0       74959  7.62671       7.52038   \n",
       "...            ...          ...     ...         ...      ...           ...   \n",
       "19225     68.51484    99.839721     7.0          30  5.08333       5.48989   \n",
       "19226     15.00000    30.000000    10.0          30  6.71667       5.51472   \n",
       "19227     20.00000    20.000000     8.0          30  5.16667       5.49304   \n",
       "19228     15.00000    25.000000     8.0          30  6.20333       5.51469   \n",
       "19229     60.00000    90.000000    12.0          30  9.13333       5.52186   \n",
       "\n",
       "       Board Game Rank  \n",
       "0                   91  \n",
       "1                  173  \n",
       "2                  381  \n",
       "3                   51  \n",
       "4                   89  \n",
       "...                ...  \n",
       "19225            16940  \n",
       "19226            13942  \n",
       "19227            16652  \n",
       "19228            13944  \n",
       "19229            12884  \n",
       "\n",
       "[19230 rows x 12 columns]"
      ]
     },
     "execution_count": 37,
     "metadata": {},
     "output_type": "execute_result"
    }
   ],
   "source": [
    "df"
   ]
  },
  {
   "cell_type": "code",
   "execution_count": 38,
   "metadata": {},
   "outputs": [],
   "source": [
    "#Creating modified df with fit_transformed scaler values\n",
    "normalized_df = pd.DataFrame(scaler.fit_transform(df), columns = column_names)"
   ]
  },
  {
   "cell_type": "code",
   "execution_count": 39,
   "metadata": {},
   "outputs": [
    {
     "data": {
      "text/html": [
       "<div>\n",
       "<style scoped>\n",
       "    .dataframe tbody tr th:only-of-type {\n",
       "        vertical-align: middle;\n",
       "    }\n",
       "\n",
       "    .dataframe tbody tr th {\n",
       "        vertical-align: top;\n",
       "    }\n",
       "\n",
       "    .dataframe thead th {\n",
       "        text-align: right;\n",
       "    }\n",
       "</style>\n",
       "<table border=\"1\" class=\"dataframe\">\n",
       "  <thead>\n",
       "    <tr style=\"text-align: right;\">\n",
       "      <th></th>\n",
       "      <th>id</th>\n",
       "      <th>yearpublished</th>\n",
       "      <th>minplayers</th>\n",
       "      <th>maxplayers</th>\n",
       "      <th>playingtime</th>\n",
       "      <th>minplaytime</th>\n",
       "      <th>maxplaytime</th>\n",
       "      <th>minage</th>\n",
       "      <th>userrated</th>\n",
       "      <th>average</th>\n",
       "      <th>bayesaverage</th>\n",
       "      <th>Board Game Rank</th>\n",
       "    </tr>\n",
       "  </thead>\n",
       "  <tbody>\n",
       "    <tr>\n",
       "      <th>count</th>\n",
       "      <td>1.923000e+04</td>\n",
       "      <td>1.923000e+04</td>\n",
       "      <td>1.923000e+04</td>\n",
       "      <td>1.923000e+04</td>\n",
       "      <td>1.923000e+04</td>\n",
       "      <td>1.923000e+04</td>\n",
       "      <td>1.923000e+04</td>\n",
       "      <td>1.923000e+04</td>\n",
       "      <td>1.923000e+04</td>\n",
       "      <td>1.923000e+04</td>\n",
       "      <td>1.923000e+04</td>\n",
       "      <td>1.923000e+04</td>\n",
       "    </tr>\n",
       "    <tr>\n",
       "      <th>mean</th>\n",
       "      <td>-6.147506e-17</td>\n",
       "      <td>2.881040e-15</td>\n",
       "      <td>-3.805574e-16</td>\n",
       "      <td>-1.777620e-16</td>\n",
       "      <td>-5.314011e-16</td>\n",
       "      <td>5.751933e-16</td>\n",
       "      <td>-5.314011e-16</td>\n",
       "      <td>7.756175e-15</td>\n",
       "      <td>-9.340134e-16</td>\n",
       "      <td>1.254858e-15</td>\n",
       "      <td>-1.836671e-15</td>\n",
       "      <td>-8.407616e-16</td>\n",
       "    </tr>\n",
       "    <tr>\n",
       "      <th>std</th>\n",
       "      <td>1.000026e+00</td>\n",
       "      <td>1.000026e+00</td>\n",
       "      <td>1.000026e+00</td>\n",
       "      <td>1.000026e+00</td>\n",
       "      <td>1.000026e+00</td>\n",
       "      <td>1.000026e+00</td>\n",
       "      <td>1.000026e+00</td>\n",
       "      <td>1.000026e+00</td>\n",
       "      <td>1.000026e+00</td>\n",
       "      <td>1.000026e+00</td>\n",
       "      <td>1.000026e+00</td>\n",
       "      <td>1.000026e+00</td>\n",
       "    </tr>\n",
       "    <tr>\n",
       "      <th>min</th>\n",
       "      <td>-1.076499e+00</td>\n",
       "      <td>-5.449231e+01</td>\n",
       "      <td>-1.526245e+00</td>\n",
       "      <td>-3.038193e-01</td>\n",
       "      <td>-9.636670e-02</td>\n",
       "      <td>-1.426049e-01</td>\n",
       "      <td>-9.636670e-02</td>\n",
       "      <td>-3.439548e+00</td>\n",
       "      <td>-2.345883e-01</td>\n",
       "      <td>-5.746992e+00</td>\n",
       "      <td>-5.814969e+00</td>\n",
       "      <td>-1.726181e+00</td>\n",
       "    </tr>\n",
       "    <tr>\n",
       "      <th>25%</th>\n",
       "      <td>-9.681687e-01</td>\n",
       "      <td>-7.725084e-03</td>\n",
       "      <td>-5.062607e-02</td>\n",
       "      <td>-1.085405e-01</td>\n",
       "      <td>-6.809229e-02</td>\n",
       "      <td>-1.024731e-01</td>\n",
       "      <td>-6.809229e-02</td>\n",
       "      <td>-8.301125e-01</td>\n",
       "      <td>-2.268942e-01</td>\n",
       "      <td>-6.298995e-01</td>\n",
       "      <td>-4.833302e-01</td>\n",
       "      <td>-8.658944e-01</td>\n",
       "    </tr>\n",
       "    <tr>\n",
       "      <th>50%</th>\n",
       "      <td>-3.046979e-01</td>\n",
       "      <td>8.141530e-02</td>\n",
       "      <td>-5.062607e-02</td>\n",
       "      <td>-1.085405e-01</td>\n",
       "      <td>-5.346760e-02</td>\n",
       "      <td>-6.022908e-02</td>\n",
       "      <td>-5.346760e-02</td>\n",
       "      <td>-8.455958e-02</td>\n",
       "      <td>-2.079547e-01</td>\n",
       "      <td>2.978462e-02</td>\n",
       "      <td>-3.768079e-01</td>\n",
       "      <td>-5.070721e-03</td>\n",
       "    </tr>\n",
       "    <tr>\n",
       "      <th>75%</th>\n",
       "      <td>8.570423e-01</td>\n",
       "      <td>1.408422e-01</td>\n",
       "      <td>-5.062607e-02</td>\n",
       "      <td>2.164528e-02</td>\n",
       "      <td>-9.593526e-03</td>\n",
       "      <td>-1.798506e-02</td>\n",
       "      <td>-9.593526e-03</td>\n",
       "      <td>6.609933e-01</td>\n",
       "      <td>-1.304952e-01</td>\n",
       "      <td>6.644745e-01</td>\n",
       "      <td>-4.901398e-03</td>\n",
       "      <td>8.659534e-01</td>\n",
       "    </tr>\n",
       "    <tr>\n",
       "      <th>max</th>\n",
       "      <td>2.254781e+00</td>\n",
       "      <td>1.903646e-01</td>\n",
       "      <td>1.175433e+01</td>\n",
       "      <td>6.465891e+01</td>\n",
       "      <td>1.169002e+02</td>\n",
       "      <td>1.265874e+02</td>\n",
       "      <td>1.169002e+02</td>\n",
       "      <td>5.507087e+00</td>\n",
       "      <td>2.823708e+01</td>\n",
       "      <td>3.543171e+00</td>\n",
       "      <td>7.771525e+00</td>\n",
       "      <td>1.735546e+00</td>\n",
       "    </tr>\n",
       "  </tbody>\n",
       "</table>\n",
       "</div>"
      ],
      "text/plain": [
       "                 id  yearpublished    minplayers    maxplayers   playingtime  \\\n",
       "count  1.923000e+04   1.923000e+04  1.923000e+04  1.923000e+04  1.923000e+04   \n",
       "mean  -6.147506e-17   2.881040e-15 -3.805574e-16 -1.777620e-16 -5.314011e-16   \n",
       "std    1.000026e+00   1.000026e+00  1.000026e+00  1.000026e+00  1.000026e+00   \n",
       "min   -1.076499e+00  -5.449231e+01 -1.526245e+00 -3.038193e-01 -9.636670e-02   \n",
       "25%   -9.681687e-01  -7.725084e-03 -5.062607e-02 -1.085405e-01 -6.809229e-02   \n",
       "50%   -3.046979e-01   8.141530e-02 -5.062607e-02 -1.085405e-01 -5.346760e-02   \n",
       "75%    8.570423e-01   1.408422e-01 -5.062607e-02  2.164528e-02 -9.593526e-03   \n",
       "max    2.254781e+00   1.903646e-01  1.175433e+01  6.465891e+01  1.169002e+02   \n",
       "\n",
       "        minplaytime   maxplaytime        minage     userrated       average  \\\n",
       "count  1.923000e+04  1.923000e+04  1.923000e+04  1.923000e+04  1.923000e+04   \n",
       "mean   5.751933e-16 -5.314011e-16  7.756175e-15 -9.340134e-16  1.254858e-15   \n",
       "std    1.000026e+00  1.000026e+00  1.000026e+00  1.000026e+00  1.000026e+00   \n",
       "min   -1.426049e-01 -9.636670e-02 -3.439548e+00 -2.345883e-01 -5.746992e+00   \n",
       "25%   -1.024731e-01 -6.809229e-02 -8.301125e-01 -2.268942e-01 -6.298995e-01   \n",
       "50%   -6.022908e-02 -5.346760e-02 -8.455958e-02 -2.079547e-01  2.978462e-02   \n",
       "75%   -1.798506e-02 -9.593526e-03  6.609933e-01 -1.304952e-01  6.644745e-01   \n",
       "max    1.265874e+02  1.169002e+02  5.507087e+00  2.823708e+01  3.543171e+00   \n",
       "\n",
       "       bayesaverage  Board Game Rank  \n",
       "count  1.923000e+04     1.923000e+04  \n",
       "mean  -1.836671e-15    -8.407616e-16  \n",
       "std    1.000026e+00     1.000026e+00  \n",
       "min   -5.814969e+00    -1.726181e+00  \n",
       "25%   -4.833302e-01    -8.658944e-01  \n",
       "50%   -3.768079e-01    -5.070721e-03  \n",
       "75%   -4.901398e-03     8.659534e-01  \n",
       "max    7.771525e+00     1.735546e+00  "
      ]
     },
     "execution_count": 39,
     "metadata": {},
     "output_type": "execute_result"
    }
   ],
   "source": [
    "#Normalized df\n",
    "normalized_df.describe()"
   ]
  },
  {
   "cell_type": "code",
   "execution_count": 40,
   "metadata": {},
   "outputs": [
    {
     "data": {
      "text/plain": [
       "array([[<AxesSubplot:title={'center':'id'}>,\n",
       "        <AxesSubplot:title={'center':'yearpublished'}>,\n",
       "        <AxesSubplot:title={'center':'minplayers'}>],\n",
       "       [<AxesSubplot:title={'center':'maxplayers'}>,\n",
       "        <AxesSubplot:title={'center':'playingtime'}>,\n",
       "        <AxesSubplot:title={'center':'minplaytime'}>],\n",
       "       [<AxesSubplot:title={'center':'maxplaytime'}>,\n",
       "        <AxesSubplot:title={'center':'minage'}>,\n",
       "        <AxesSubplot:title={'center':'userrated'}>],\n",
       "       [<AxesSubplot:title={'center':'average'}>,\n",
       "        <AxesSubplot:title={'center':'bayesaverage'}>,\n",
       "        <AxesSubplot:title={'center':'Board Game Rank'}>]], dtype=object)"
      ]
     },
     "execution_count": 40,
     "metadata": {},
     "output_type": "execute_result"
    },
    {
     "data": {
      "image/png": "[encoded data removed]",
      "text/plain": [
       "<Figure size 720x720 with 12 Axes>"
      ]
     },
     "metadata": {
      "needs_background": "light"
     },
     "output_type": "display_data"
    }
   ],
   "source": [
    "#Histogram of normalized dataset\n",
    "normalized_df.hist(figsize=(10,10))"
   ]
  },
  {
   "cell_type": "code",
   "execution_count": 41,
   "metadata": {},
   "outputs": [],
   "source": [
    "#Write to csv\n",
    "df.to_csv('Updated-game-detailed-info.csv', index=False)"
   ]
  }
 ],
 "metadata": {
  "kernelspec": {
   "display_name": "Python 3",
   "language": "python",
   "name": "python3"
  },
  "language_info": {
   "codemirror_mode": {
    "name": "ipython",
    "version": 3
   },
   "file_extension": ".py",
   "mimetype": "text/x-python",
   "name": "python",
   "nbconvert_exporter": "python",
   "pygments_lexer": "ipython3",
   "version": "3.7.6"
  }
 },
 "nbformat": 4,
 "nbformat_minor": 4
}
